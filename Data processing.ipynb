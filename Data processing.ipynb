{
 "cells": [
  {
   "cell_type": "markdown",
   "id": "d697f7ce",
   "metadata": {},
   "source": [
    "# Preprocessing Data\n",
    " "
   ]
  },
  {
   "cell_type": "code",
   "execution_count": 1,
   "id": "4a07a2e2",
   "metadata": {},
   "outputs": [],
   "source": [
    "# loading necessary libraries\n",
    "import pandas as pd\n",
    "import numpy as np\n",
    "import seaborn as sns\n",
    "import matplotlib.pyplot as plt\n",
    "from matplotlib import pyplot\n",
    "\n",
    "import warnings\n",
    "warnings.filterwarnings(\"ignore\", category=DeprecationWarning) \n",
    "warnings.filterwarnings(\"ignore\", category=FutureWarning) \n",
    "warnings.filterwarnings(\"ignore\", category=UserWarning) \n",
    "\n",
    "pd.options.mode.chained_assignment = None  # default='warn'\n",
    "\n"
   ]
  },
  {
   "cell_type": "code",
   "execution_count": 2,
   "id": "45a643be",
   "metadata": {},
   "outputs": [
    {
     "data": {
      "text/plain": [
       "(380, 17)"
      ]
     },
     "execution_count": 2,
     "metadata": {},
     "output_type": "execute_result"
    }
   ],
   "source": [
    "import pyreadstat\n",
    "\n",
    "# Read the sas7bdat file\n",
    "df, meta = pyreadstat.read_sas7bdat('data/riskydr00_11.sas7bdat')\n",
    "df.shape"
   ]
  },
  {
   "cell_type": "code",
   "execution_count": 3,
   "id": "0ab27e03",
   "metadata": {},
   "outputs": [
    {
     "data": {
      "text/plain": [
       "float64    17\n",
       "dtype: int64"
      ]
     },
     "execution_count": 3,
     "metadata": {},
     "output_type": "execute_result"
    }
   ],
   "source": [
    "df.dtypes.value_counts()"
   ]
  },
  {
   "cell_type": "code",
   "execution_count": 4,
   "id": "a85cbb7c",
   "metadata": {},
   "outputs": [
    {
     "data": {
      "text/html": [
       "<div>\n",
       "<style scoped>\n",
       "    .dataframe tbody tr th:only-of-type {\n",
       "        vertical-align: middle;\n",
       "    }\n",
       "\n",
       "    .dataframe tbody tr th {\n",
       "        vertical-align: top;\n",
       "    }\n",
       "\n",
       "    .dataframe thead th {\n",
       "        text-align: right;\n",
       "    }\n",
       "</style>\n",
       "<table border=\"1\" class=\"dataframe\">\n",
       "  <thead>\n",
       "    <tr style=\"text-align: right;\">\n",
       "      <th></th>\n",
       "      <th>sustr_uk</th>\n",
       "      <th>weight</th>\n",
       "      <th>gn</th>\n",
       "      <th>agegr3</th>\n",
       "      <th>edu</th>\n",
       "      <th>oneprhouse</th>\n",
       "      <th>ecactiv</th>\n",
       "      <th>psydsord</th>\n",
       "      <th>chrodse</th>\n",
       "      <th>prhealth</th>\n",
       "      <th>psydist</th>\n",
       "      <th>BDI3</th>\n",
       "      <th>sensecoh</th>\n",
       "      <th>ageatfdr</th>\n",
       "      <th>familyhist</th>\n",
       "      <th>smoking</th>\n",
       "      <th>phyact4</th>\n",
       "    </tr>\n",
       "  </thead>\n",
       "  <tbody>\n",
       "    <tr>\n",
       "      <th>0</th>\n",
       "      <td>0.0</td>\n",
       "      <td>1.086293</td>\n",
       "      <td>1.0</td>\n",
       "      <td>1.0</td>\n",
       "      <td>2.0</td>\n",
       "      <td>0.0</td>\n",
       "      <td>1.0</td>\n",
       "      <td>0.0</td>\n",
       "      <td>1.0</td>\n",
       "      <td>1.0</td>\n",
       "      <td>0.0</td>\n",
       "      <td>0.0</td>\n",
       "      <td>65.0</td>\n",
       "      <td>17.0</td>\n",
       "      <td>1.0</td>\n",
       "      <td>1.0</td>\n",
       "      <td>4.0</td>\n",
       "    </tr>\n",
       "    <tr>\n",
       "      <th>1</th>\n",
       "      <td>1.0</td>\n",
       "      <td>1.086293</td>\n",
       "      <td>1.0</td>\n",
       "      <td>1.0</td>\n",
       "      <td>3.0</td>\n",
       "      <td>0.0</td>\n",
       "      <td>1.0</td>\n",
       "      <td>0.0</td>\n",
       "      <td>1.0</td>\n",
       "      <td>1.0</td>\n",
       "      <td>0.0</td>\n",
       "      <td>0.0</td>\n",
       "      <td>73.0</td>\n",
       "      <td>19.0</td>\n",
       "      <td>0.0</td>\n",
       "      <td>0.0</td>\n",
       "      <td>3.0</td>\n",
       "    </tr>\n",
       "    <tr>\n",
       "      <th>2</th>\n",
       "      <td>1.0</td>\n",
       "      <td>1.086293</td>\n",
       "      <td>1.0</td>\n",
       "      <td>1.0</td>\n",
       "      <td>1.0</td>\n",
       "      <td>0.0</td>\n",
       "      <td>1.0</td>\n",
       "      <td>0.0</td>\n",
       "      <td>0.0</td>\n",
       "      <td>1.0</td>\n",
       "      <td>0.0</td>\n",
       "      <td>0.0</td>\n",
       "      <td>59.0</td>\n",
       "      <td>18.0</td>\n",
       "      <td>0.0</td>\n",
       "      <td>1.0</td>\n",
       "      <td>3.0</td>\n",
       "    </tr>\n",
       "    <tr>\n",
       "      <th>3</th>\n",
       "      <td>0.0</td>\n",
       "      <td>1.086293</td>\n",
       "      <td>1.0</td>\n",
       "      <td>1.0</td>\n",
       "      <td>3.0</td>\n",
       "      <td>0.0</td>\n",
       "      <td>1.0</td>\n",
       "      <td>0.0</td>\n",
       "      <td>0.0</td>\n",
       "      <td>1.0</td>\n",
       "      <td>0.0</td>\n",
       "      <td>0.0</td>\n",
       "      <td>64.0</td>\n",
       "      <td>17.0</td>\n",
       "      <td>0.0</td>\n",
       "      <td>0.0</td>\n",
       "      <td>4.0</td>\n",
       "    </tr>\n",
       "    <tr>\n",
       "      <th>4</th>\n",
       "      <td>1.0</td>\n",
       "      <td>0.945237</td>\n",
       "      <td>2.0</td>\n",
       "      <td>1.0</td>\n",
       "      <td>2.0</td>\n",
       "      <td>0.0</td>\n",
       "      <td>2.0</td>\n",
       "      <td>0.0</td>\n",
       "      <td>0.0</td>\n",
       "      <td>1.0</td>\n",
       "      <td>1.0</td>\n",
       "      <td>0.0</td>\n",
       "      <td>58.0</td>\n",
       "      <td>15.0</td>\n",
       "      <td>0.0</td>\n",
       "      <td>0.0</td>\n",
       "      <td>3.0</td>\n",
       "    </tr>\n",
       "  </tbody>\n",
       "</table>\n",
       "</div>"
      ],
      "text/plain": [
       "   sustr_uk    weight   gn  agegr3  edu  oneprhouse  ecactiv  psydsord  \\\n",
       "0       0.0  1.086293  1.0     1.0  2.0         0.0      1.0       0.0   \n",
       "1       1.0  1.086293  1.0     1.0  3.0         0.0      1.0       0.0   \n",
       "2       1.0  1.086293  1.0     1.0  1.0         0.0      1.0       0.0   \n",
       "3       0.0  1.086293  1.0     1.0  3.0         0.0      1.0       0.0   \n",
       "4       1.0  0.945237  2.0     1.0  2.0         0.0      2.0       0.0   \n",
       "\n",
       "   chrodse  prhealth  psydist  BDI3  sensecoh  ageatfdr  familyhist  smoking  \\\n",
       "0      1.0       1.0      0.0   0.0      65.0      17.0         1.0      1.0   \n",
       "1      1.0       1.0      0.0   0.0      73.0      19.0         0.0      0.0   \n",
       "2      0.0       1.0      0.0   0.0      59.0      18.0         0.0      1.0   \n",
       "3      0.0       1.0      0.0   0.0      64.0      17.0         0.0      0.0   \n",
       "4      0.0       1.0      1.0   0.0      58.0      15.0         0.0      0.0   \n",
       "\n",
       "   phyact4  \n",
       "0      4.0  \n",
       "1      3.0  \n",
       "2      3.0  \n",
       "3      4.0  \n",
       "4      3.0  "
      ]
     },
     "execution_count": 4,
     "metadata": {},
     "output_type": "execute_result"
    }
   ],
   "source": [
    "df.head()"
   ]
  },
  {
   "cell_type": "markdown",
   "id": "30ff0c47",
   "metadata": {},
   "source": [
    "### Chi-square test"
   ]
  },
  {
   "cell_type": "code",
   "execution_count": 5,
   "id": "08c86be0",
   "metadata": {},
   "outputs": [],
   "source": [
    "# https://pythonfordatascienceorg.wordpress.com/chi-square-python/\n",
    "from scipy import stats\n",
    "\n",
    "# To get row proportions, pass ‘Row’ into the “prop= ” argument for the function\n",
    "# To get col proportions, pass ‘Col’ into the “prop= ”\n",
    "# like, prop= 'Row'\n",
    "# else it is False.\n",
    "\n",
    "\n",
    "def chi2_table(series1, series2, to_csv = False, csv_name = None, prop= 'Row'):\n",
    "    \n",
    "    if type(series1) != list:\n",
    "        crosstab = pd.crosstab(series1, series2)\n",
    "        crosstab2 = pd.crosstab(series1, series2, margins= True)\n",
    "        crosstab_proprow = round(crosstab2.div(crosstab2.iloc[:,-1], axis=0).mul(100, axis=0), 2)\n",
    "        crosstab_propcol = round(crosstab2.div(crosstab2.iloc[-1,:], axis=1).mul(100, axis=1), 2)\n",
    "        chi2, p, dof, expected = stats.chi2_contingency(crosstab)\n",
    "        \n",
    "        if prop == False:\n",
    "            print(\"\\n\",\n",
    "          f\"Chi-Square test between \" + series1.name + \" and \" + series2.name,\n",
    "          \"\\n\", \"\\n\",\n",
    "          crosstab2,\n",
    "          \"\\n\", \"\\n\",\n",
    "          f\"Pearson Chi2({dof})= {chi2:.4f} p-value= {p:.4f}\")\n",
    "            \n",
    "            if to_csv == True:\n",
    "                if csv_name == None:\n",
    "                    csv_name = f\"{series2.name}.csv\"\n",
    "                                             \n",
    "                file = open(csv_name, 'a')\n",
    "                file.write(f\"{crosstab2.columns.name}\\n\")\n",
    "                file.close()\n",
    "                crosstab2.to_csv(csv_name, header= True, mode= 'a')\n",
    "                file = open(csv_name, 'a')\n",
    "                file.write(f\"Pearson Chi2({dof})= {chi2:.4f} p-value= {p:.4f}\")\n",
    "                file.write(\"\\n\")\n",
    "                file.close()              \n",
    "                \n",
    "        if prop == 'Row':\n",
    "            print(\"\\n\",\n",
    "          f\"Chi-Square test between \" + series1.name + \" and \" + series2.name,\n",
    "          \"\\n\", \"\\n\",\n",
    "          crosstab_proprow,\n",
    "          \"\\n\", \"\\n\",\n",
    "          f\"Pearson Chi2({dof})= {chi2:.4f} p-value= {p:.4f}\")\n",
    "            \n",
    "            if to_csv == True:\n",
    "                if csv_name == None:\n",
    "                    csv_name = f\"{series2.name}.csv\"\n",
    "                \n",
    "                file = open(csv_name, 'a')\n",
    "                file.write(f\"{crosstab_proprow.columns.name}\\n\")\n",
    "                file.close()\n",
    "                crosstab_proprow.to_csv(csv_name, header= True, mode= 'a')\n",
    "                file = open(csv_name, 'a')\n",
    "                file.write(f\"Pearson Chi2({dof})= {chi2:.4f} p-value= {p:.4f}\")\n",
    "                file.write(\"\\n\")\n",
    "                file.close()\n",
    "\n",
    "        if prop == 'Col':\n",
    "            print(\"\\n\",\n",
    "          f\"Chi-Square test between \" + series1.name + \" and \" + series2.name,\n",
    "          \"\\n\", \"\\n\",\n",
    "          crosstab_propcol,\n",
    "          \"\\n\", \"\\n\",\n",
    "          f\"Pearson Chi2({dof})= {chi2:.4f} p-value= {p:.4f}\")\n",
    "\n",
    "            if to_csv == True:\n",
    "                if csv_name == None:\n",
    "                    csv_name = f\"{series2.name}.csv\"\n",
    "                    \n",
    "                file = open(csv_name, 'a')\n",
    "                file.write(f\"{crosstab_propcol.columns.name}\\n\")\n",
    "                file.close()\n",
    "                crosstab_propcol.to_csv(csv_name, header= True, mode= 'a')\n",
    "                file = open(csv_name, 'a')\n",
    "                file.write(f\"Pearson Chi2({dof})= {chi2:.4f} p-value= {p:.4f}\")\n",
    "                file.write(\"\\n\")\n",
    "                file.close()\n",
    "\n",
    "    elif type(series1) == list and type(series2) == list:\n",
    "        for entry2 in series2:\n",
    "            for entry1 in series1:\n",
    "                crosstab = pd.crosstab(entry1, entry2)\n",
    "                crosstab2 = pd.crosstab(entry1, entry2, margins= True)\n",
    "                crosstab_proprow = round(crosstab2.div(crosstab2.iloc[:,-1], axis=0).mul(100, axis=0), 2)\n",
    "                crosstab_propcol = round(crosstab2.div(crosstab2.iloc[-1,:], axis=1).mul(100, axis=1), 2)\n",
    "                chi2, p, dof, expected = stats.chi2_contingency(crosstab)\n",
    "                \n",
    "                if prop == False:\n",
    "            \n",
    "                    print(\"\\n\",\n",
    "          f\"Chi-Square test between \" + entry1.name + \" and \" + entry2.name,\n",
    "          \"\\n\", \"\\n\",\n",
    "          crosstab2,\n",
    "          \"\\n\", \"\\n\",\n",
    "          f\"Pearson Chi2({dof})= {chi2:.4f} p-value= {p:.4f}\")\n",
    "            \n",
    "                    if to_csv == True:\n",
    "                        \n",
    "                        file = open(\"%s.csv\" %(entry2.name), 'a')\n",
    "                        file.write(f\"{crosstab2.columns.name}\\n\")\n",
    "                        file.close()\n",
    "                        crosstab2.to_csv(\"%s.csv\" %(entry2.name), header= True, mode= 'a')\n",
    "                        file = open(\"%s.csv\" %(entry2.name), 'a')\n",
    "                        file.write(f\"Pearson Chi2({dof})= {chi2:.4f} p-value= {p:.4f}\")\n",
    "                        file.write(\"\\n\")\n",
    "                        file.close()                        \n",
    "\n",
    "                if prop == 'Row':\n",
    "            \n",
    "                    print(\"\\n\",\n",
    "          f\"Chi-Square test between \" + entry1.name + \" and \" + entry2.name,\n",
    "          \"\\n\", \"\\n\",\n",
    "          crosstab_proprow,\n",
    "          \"\\n\", \"\\n\",\n",
    "          f\"Pearson Chi2({dof})= {chi2:.4f} p-value= {p:.4f}\")\n",
    "            \n",
    "                    if to_csv == True:\n",
    "                        file = open(\"%s.csv\" %(entry2.name), 'a')\n",
    "                        file.write(f\"{crosstab_proprow.columns.name}\\n\")\n",
    "                        file.close()\n",
    "                        crosstab_proprow.to_csv(\"%s.csv\" %(entry2.name), header= True, mode= 'a')\n",
    "                        file = open(\"%s.csv\" %(entry2.name), 'a')\n",
    "                        file.write(f\"Pearson Chi2({dof})= {chi2:.4f} p-value= {p:.4f}\")\n",
    "                        file.write(\"\\n\")\n",
    "                        file.close()\n",
    "                    \n",
    "                if prop == 'Col':\n",
    "            \n",
    "                    print(\"\\n\",\n",
    "          f\"Chi-Square test between \" + entry1.name + \" and \" + entry2.name,\n",
    "          \"\\n\", \"\\n\",\n",
    "          crosstab_propcol,\n",
    "          \"\\n\", \"\\n\",\n",
    "          f\"Pearson Chi2({dof})= {chi2:.4f} p-value= {p:.4f}\")\n",
    "            \n",
    "                    if to_csv == True:\n",
    "                        file = open(\"%s.csv\" %(entry2.name), 'a')\n",
    "                        file.write(f\"{crosstab_propcol.columns.name}\\n\")\n",
    "                        file.close()\n",
    "                        crosstab_propcol.to_csv(\"%s.csv\" %(entry2.name), header= True, mode= 'a')\n",
    "                        file = open(\"%s.csv\" %(entry2.name), 'a')\n",
    "                        file.write(f\"Pearson Chi2({dof})= {chi2:.4f} p-value= {p:.4f}\")\n",
    "                        file.write(\"\\n\")\n",
    "                        file.close()\n",
    "\n",
    "\n",
    "    elif type(series1) == list:\n",
    "        for entry in series1:\n",
    "            crosstab = pd.crosstab(entry, series2)\n",
    "            crosstab2 = pd.crosstab(entry, series2, margins= True)\n",
    "            crosstab_proprow = round(crosstab2.div(crosstab2.iloc[:,-1], axis=0).mul(100, axis=0), 2)\n",
    "            crosstab_propcol = round(crosstab2.div(crosstab2.iloc[-1,:], axis=1).mul(100, axis=1), 2)\n",
    "            chi2, p, dof, expected = stats.chi2_contingency(crosstab)\n",
    "            \n",
    "            if prop == False:\n",
    "                print(\"\\n\",\n",
    "          f\"Chi-Square test between \" + entry.name + \" and \" + series2.name,\n",
    "          \"\\n\", \"\\n\",\n",
    "          crosstab2,\n",
    "          \"\\n\", \"\\n\",\n",
    "          f\"Pearson Chi2({dof})= {chi2:.4f} p-value= {p:.4f}\")\n",
    "            \n",
    "                if to_csv == True:\n",
    "                    file = open(\"%s.csv\" %(series2.name), 'a')\n",
    "                    file.write(f\"{crosstab2.columns.name}\\n\")\n",
    "                    file.close()\n",
    "                    crosstab2.to_csv(\"%s.csv\" %(series2.name), header= True, mode= 'a')\n",
    "                    file = open(\"%s.csv\" %(series2.name), 'a')\n",
    "                    file.write(f\"Pearson Chi2({dof})= {chi2:.4f} p-value= {p:.4f}\")\n",
    "                    file.write(\"\\n\")\n",
    "                    file.close()\n",
    "\n",
    "            if prop == 'Row':\n",
    "                print(\"\\n\",\n",
    "          f\"Chi-Square test between \" + entry.name + \" and \" + series2.name,\n",
    "          \"\\n\", \"\\n\",\n",
    "          crosstab_proprow,\n",
    "          \"\\n\", \"\\n\",\n",
    "          f\"Pearson Chi2({dof})= {chi2:.4f} p-value= {p:.4f}\")\n",
    "            \n",
    "                if to_csv == True:\n",
    "                    file = open(\"%s.csv\" %(series2.name), 'a')\n",
    "                    file.write(f\"{crosstab_proprow.columns.name}\\n\")\n",
    "                    file.close()\n",
    "                    crosstab_proprow.to_csv(\"%s.csv\" %(series2.name), header= True, mode= 'a')\n",
    "                    file = open(\"%s.csv\" %(series2.name), 'a')\n",
    "                    file.write(f\"Pearson Chi2({dof})= {chi2:.4f} p-value= {p:.4f}\")\n",
    "                    file.write(\"\\n\")\n",
    "                    file.close()\n",
    "\n",
    "            if prop == 'Col':\n",
    "                print(\"\\n\",\n",
    "          f\"Chi-Square test between \" + entry.name + \" and \" + series2.name,\n",
    "          \"\\n\", \"\\n\",\n",
    "          crosstab_propcol,\n",
    "          \"\\n\", \"\\n\",\n",
    "          f\"Pearson Chi2({dof})= {chi2:.4f} p-value= {p:.4f}\")\n",
    "            \n",
    "                if to_csv == True:\n",
    "                    file = open(\"%s.csv\" %(series2.name), 'a')\n",
    "                    file.write(f\"{crosstab_propcol.columns.name}\\n\")\n",
    "                    file.close()\n",
    "                    crosstab_propcol.to_csv(\"%s.csv\" %(series2.name), header= True, mode= 'a')\n",
    "                    file = open(\"%s.csv\" %(series2.name), 'a')\n",
    "                    file.write(f\"Pearson Chi2({dof})= {chi2:.4f} p-value= {p:.4f}\")\n",
    "                    file.write(\"\\n\")\n",
    "                    file.close()"
   ]
  },
  {
   "cell_type": "markdown",
   "id": "319b599a",
   "metadata": {},
   "source": [
    "# EDA and Preprocessing\n",
    "\n",
    "Variable selection here is a design choice and I only focused on those that would be usefull for my models. "
   ]
  },
  {
   "cell_type": "markdown",
   "id": "1cf44560",
   "metadata": {},
   "source": [
    "## sustr_uk (target)"
   ]
  },
  {
   "cell_type": "code",
   "execution_count": 6,
   "id": "2e2c70ef",
   "metadata": {},
   "outputs": [
    {
     "name": "stdout",
     "output_type": "stream",
     "text": [
      "target\n",
      "0.0       195\n",
      "1.0       185\n",
      "dtype: int64\n",
      "\n",
      " --------------\n",
      "target\n",
      "0.0       0.513158\n",
      "1.0       0.486842\n",
      "dtype: float64\n"
     ]
    }
   ],
   "source": [
    "# distribution of cannabis use\n",
    "\n",
    "df['target'] = df['sustr_uk']\n",
    "\n",
    "print(df[['target']].value_counts(dropna= False))\n",
    "\n",
    "print('\\n --------------')\n",
    "print(df[['target']].value_counts(dropna= False, normalize=True))"
   ]
  },
  {
   "cell_type": "markdown",
   "id": "8686ab39",
   "metadata": {},
   "source": [
    "## Weight "
   ]
  },
  {
   "cell_type": "code",
   "execution_count": 7,
   "id": "8852bfc1",
   "metadata": {},
   "outputs": [
    {
     "data": {
      "text/plain": [
       "count    380.000000\n",
       "mean       1.061205\n",
       "std        0.066691\n",
       "min        0.894603\n",
       "25%        1.015347\n",
       "50%        1.068462\n",
       "75%        1.108923\n",
       "max        1.236259\n",
       "Name: weight, dtype: float64"
      ]
     },
     "execution_count": 7,
     "metadata": {},
     "output_type": "execute_result"
    }
   ],
   "source": [
    "# Continius\n",
    "df['weight'].describe()"
   ]
  },
  {
   "cell_type": "markdown",
   "id": "2fe90c6d",
   "metadata": {},
   "source": [
    "## (k1) - gender "
   ]
  },
  {
   "cell_type": "code",
   "execution_count": 8,
   "id": "1d500e65",
   "metadata": {},
   "outputs": [
    {
     "name": "stdout",
     "output_type": "stream",
     "text": [
      "1.0    0.655263\n",
      "2.0    0.344737\n",
      "Name: gn, dtype: float64\n",
      "1.0    249\n",
      "2.0    131\n",
      "Name: gender, dtype: int64\n"
     ]
    }
   ],
   "source": [
    "# binary\n",
    "# gender\n",
    "print(df['gn'].value_counts(dropna=False, normalize=True))\n",
    "\n",
    "\n",
    "df['gender'] = df['gn']\n",
    "print(df['gender'].value_counts(dropna=False))"
   ]
  },
  {
   "cell_type": "code",
   "execution_count": 9,
   "id": "535295cd",
   "metadata": {},
   "outputs": [
    {
     "name": "stdout",
     "output_type": "stream",
     "text": [
      "\n",
      " Chi-Square test between gender and target \n",
      " \n",
      " target    0.0    1.0    All\n",
      "gender                     \n",
      "1.0     48.59  51.41  100.0\n",
      "2.0     56.49  43.51  100.0\n",
      "All     51.32  48.68  100.0 \n",
      " \n",
      " Pearson Chi2(1)= 1.8369 p-value= 0.1753\n"
     ]
    }
   ],
   "source": [
    "chi2_table(df['gender'], df['target'])\n"
   ]
  },
  {
   "cell_type": "markdown",
   "id": "bae6ec18",
   "metadata": {},
   "source": [
    "## (k2) age"
   ]
  },
  {
   "cell_type": "code",
   "execution_count": 10,
   "id": "adac61cf",
   "metadata": {},
   "outputs": [
    {
     "name": "stdout",
     "output_type": "stream",
     "text": [
      "2.0    0.468421\n",
      "1.0    0.389474\n",
      "3.0    0.142105\n",
      "Name: age, dtype: float64\n",
      "--------------- \n",
      "\n",
      "2.0    178\n",
      "1.0    148\n",
      "3.0     54\n",
      "Name: age, dtype: int64\n"
     ]
    }
   ],
   "source": [
    "# categoric \n",
    "# 30-44\n",
    "# 45-59\n",
    "# 60+\n",
    "\n",
    "df['age'] = df['agegr3']\n",
    "\n",
    "print(df['age'].value_counts(dropna=False, normalize=True))\n",
    "\n",
    "print('--------------- \\n')\n",
    "print(df['age'].value_counts(dropna= False))"
   ]
  },
  {
   "cell_type": "code",
   "execution_count": 11,
   "id": "3fd434a9",
   "metadata": {},
   "outputs": [
    {
     "name": "stdout",
     "output_type": "stream",
     "text": [
      "\n",
      " Chi-Square test between age and target \n",
      " \n",
      " target    0.0    1.0    All\n",
      "age                        \n",
      "1.0     45.27  54.73  100.0\n",
      "2.0     47.75  52.25  100.0\n",
      "3.0     79.63  20.37  100.0\n",
      "All     51.32  48.68  100.0 \n",
      " \n",
      " Pearson Chi2(2)= 20.3978 p-value= 0.0000\n"
     ]
    }
   ],
   "source": [
    "chi2_table(df['age'], df['target'])"
   ]
  },
  {
   "cell_type": "markdown",
   "id": "01a79ebd",
   "metadata": {},
   "source": [
    "## Edu "
   ]
  },
  {
   "cell_type": "code",
   "execution_count": 12,
   "id": "d582c343",
   "metadata": {},
   "outputs": [
    {
     "name": "stdout",
     "output_type": "stream",
     "text": [
      "2.0    0.394737\n",
      "3.0    0.334211\n",
      "1.0    0.265789\n",
      "NaN    0.005263\n",
      "Name: edu, dtype: float64\n",
      "--------------- \n",
      "\n",
      "2.0    150\n",
      "3.0    127\n",
      "1.0    101\n",
      "NaN      2\n",
      "Name: edu, dtype: int64\n"
     ]
    }
   ],
   "source": [
    "# categoric\n",
    "\n",
    "# lowest\n",
    "# middle\n",
    "# highest\n",
    "\n",
    "print(df['edu'].value_counts(dropna=False, normalize=True))\n",
    "\n",
    "print('--------------- \\n')\n",
    "print(df['edu'].value_counts(dropna= False))"
   ]
  },
  {
   "cell_type": "code",
   "execution_count": 13,
   "id": "dd72a46d",
   "metadata": {},
   "outputs": [
    {
     "name": "stdout",
     "output_type": "stream",
     "text": [
      "\n",
      " Chi-Square test between edu and target \n",
      " \n",
      " target    0.0    1.0    All\n",
      "edu                        \n",
      "1.0     60.40  39.60  100.0\n",
      "2.0     50.00  50.00  100.0\n",
      "3.0     44.88  55.12  100.0\n",
      "All     51.06  48.94  100.0 \n",
      " \n",
      " Pearson Chi2(2)= 5.5302 p-value= 0.0630\n"
     ]
    }
   ],
   "source": [
    "chi2_table(df['edu'], df['target'])"
   ]
  },
  {
   "cell_type": "markdown",
   "id": "06c9caee",
   "metadata": {},
   "source": [
    "## (k5)- household members"
   ]
  },
  {
   "cell_type": "code",
   "execution_count": 14,
   "id": "a8d8a540",
   "metadata": {},
   "outputs": [
    {
     "name": "stdout",
     "output_type": "stream",
     "text": [
      "0.0    0.800000\n",
      "1.0    0.194737\n",
      "NaN    0.005263\n",
      "Name: household, dtype: float64\n",
      "--------------- \n",
      "\n",
      "0.0    304\n",
      "1.0     74\n",
      "NaN      2\n",
      "Name: household, dtype: int64\n"
     ]
    }
   ],
   "source": [
    "# binary\n",
    "\n",
    "df['household'] = df['oneprhouse']\n",
    "\n",
    "print(df['household'].value_counts(dropna=False, normalize=True))\n",
    "\n",
    "print('--------------- \\n')\n",
    "print(df['household'].value_counts(dropna= False))"
   ]
  },
  {
   "cell_type": "code",
   "execution_count": 15,
   "id": "d97fdf76",
   "metadata": {},
   "outputs": [
    {
     "name": "stdout",
     "output_type": "stream",
     "text": [
      "\n",
      " Chi-Square test between household and target \n",
      " \n",
      " target       0.0    1.0    All\n",
      "household                     \n",
      "0.0        50.33  49.67  100.0\n",
      "1.0        54.05  45.95  100.0\n",
      "All        51.06  48.94  100.0 \n",
      " \n",
      " Pearson Chi2(1)= 0.1982 p-value= 0.6562\n"
     ]
    }
   ],
   "source": [
    "chi2_table(df['household'], df['target'])"
   ]
  },
  {
   "cell_type": "markdown",
   "id": "550a43bf",
   "metadata": {},
   "source": [
    "## economic activity"
   ]
  },
  {
   "cell_type": "code",
   "execution_count": 16,
   "id": "2db36ea8",
   "metadata": {},
   "outputs": [
    {
     "name": "stdout",
     "output_type": "stream",
     "text": [
      "1.0    278\n",
      "3.0     42\n",
      "2.0     33\n",
      "4.0     18\n",
      "NaN      9\n",
      "Name: ecactiv, dtype: int64\n",
      "1.0    0.731579\n",
      "3.0    0.110526\n",
      "2.0    0.086842\n",
      "4.0    0.047368\n",
      "NaN    0.023684\n",
      "Name: ecactiv, dtype: float64\n"
     ]
    }
   ],
   "source": [
    "# categoric \n",
    "\n",
    "# employed\n",
    "# unemployed\n",
    "# retired\n",
    "# disability pension\n",
    "\n",
    "print(df['ecactiv'].value_counts(dropna=False))\n",
    "print(df['ecactiv'].value_counts(dropna=False, normalize=True))"
   ]
  },
  {
   "cell_type": "code",
   "execution_count": 17,
   "id": "c91c84ff",
   "metadata": {},
   "outputs": [
    {
     "name": "stdout",
     "output_type": "stream",
     "text": [
      "\n",
      " Chi-Square test between ecactiv and target \n",
      " \n",
      " target     0.0    1.0    All\n",
      "ecactiv                     \n",
      "1.0      43.88  56.12  100.0\n",
      "2.0      60.61  39.39  100.0\n",
      "3.0      80.95  19.05  100.0\n",
      "4.0      61.11  38.89  100.0\n",
      "All      50.40  49.60  100.0 \n",
      " \n",
      " Pearson Chi2(3)= 22.6045 p-value= 0.0000\n"
     ]
    }
   ],
   "source": [
    "chi2_table(df['ecactiv'], df['target'])"
   ]
  },
  {
   "cell_type": "markdown",
   "id": "f0f00100",
   "metadata": {},
   "source": [
    "## Pyschiatric disorder"
   ]
  },
  {
   "cell_type": "code",
   "execution_count": 18,
   "id": "1bf7ee67",
   "metadata": {},
   "outputs": [
    {
     "name": "stdout",
     "output_type": "stream",
     "text": [
      "0.0    0.905263\n",
      "1.0    0.094737\n",
      "Name: psydsord, dtype: float64\n"
     ]
    }
   ],
   "source": [
    "# yes / no binary\n",
    "\n",
    "print(df['psydsord'].value_counts(dropna=False, normalize=True))"
   ]
  },
  {
   "cell_type": "code",
   "execution_count": 19,
   "id": "276aeaca",
   "metadata": {},
   "outputs": [
    {
     "name": "stdout",
     "output_type": "stream",
     "text": [
      "\n",
      " Chi-Square test between psydsord and target \n",
      " \n",
      " target      0.0    1.0    All\n",
      "psydsord                     \n",
      "0.0       50.87  49.13  100.0\n",
      "1.0       55.56  44.44  100.0\n",
      "All       51.32  48.68  100.0 \n",
      " \n",
      " Pearson Chi2(1)= 0.1294 p-value= 0.7191\n"
     ]
    }
   ],
   "source": [
    "chi2_table(df['psydsord'], df['target'])"
   ]
  },
  {
   "cell_type": "markdown",
   "id": "81fb0778",
   "metadata": {},
   "source": [
    "## chronic disease"
   ]
  },
  {
   "cell_type": "code",
   "execution_count": 20,
   "id": "edaf9fc7",
   "metadata": {},
   "outputs": [
    {
     "name": "stdout",
     "output_type": "stream",
     "text": [
      "0.0    221\n",
      "1.0    153\n",
      "NaN      6\n",
      "Name: chrodse, dtype: int64\n"
     ]
    },
    {
     "data": {
      "text/html": [
       "<div>\n",
       "<style scoped>\n",
       "    .dataframe tbody tr th:only-of-type {\n",
       "        vertical-align: middle;\n",
       "    }\n",
       "\n",
       "    .dataframe tbody tr th {\n",
       "        vertical-align: top;\n",
       "    }\n",
       "\n",
       "    .dataframe thead th {\n",
       "        text-align: right;\n",
       "    }\n",
       "</style>\n",
       "<table border=\"1\" class=\"dataframe\">\n",
       "  <thead>\n",
       "    <tr style=\"text-align: right;\">\n",
       "      <th>target</th>\n",
       "      <th>0.0</th>\n",
       "      <th>1.0</th>\n",
       "      <th>All</th>\n",
       "    </tr>\n",
       "    <tr>\n",
       "      <th>chrodse</th>\n",
       "      <th></th>\n",
       "      <th></th>\n",
       "      <th></th>\n",
       "    </tr>\n",
       "  </thead>\n",
       "  <tbody>\n",
       "    <tr>\n",
       "      <th>0.0</th>\n",
       "      <td>113</td>\n",
       "      <td>108</td>\n",
       "      <td>221</td>\n",
       "    </tr>\n",
       "    <tr>\n",
       "      <th>1.0</th>\n",
       "      <td>80</td>\n",
       "      <td>73</td>\n",
       "      <td>153</td>\n",
       "    </tr>\n",
       "    <tr>\n",
       "      <th>missing</th>\n",
       "      <td>2</td>\n",
       "      <td>4</td>\n",
       "      <td>6</td>\n",
       "    </tr>\n",
       "    <tr>\n",
       "      <th>All</th>\n",
       "      <td>195</td>\n",
       "      <td>185</td>\n",
       "      <td>380</td>\n",
       "    </tr>\n",
       "  </tbody>\n",
       "</table>\n",
       "</div>"
      ],
      "text/plain": [
       "target   0.0  1.0  All\n",
       "chrodse               \n",
       "0.0      113  108  221\n",
       "1.0       80   73  153\n",
       "missing    2    4    6\n",
       "All      195  185  380"
      ]
     },
     "execution_count": 20,
     "metadata": {},
     "output_type": "execute_result"
    }
   ],
   "source": [
    "# yes / no  binary\n",
    "\n",
    "print(df['chrodse'].value_counts(dropna=False))\n",
    "\n",
    "pd.crosstab(df['chrodse'].fillna('missing'),df['target'].fillna('missing'),margins=True)\n"
   ]
  },
  {
   "cell_type": "code",
   "execution_count": 21,
   "id": "a1e18fe1",
   "metadata": {
    "scrolled": true
   },
   "outputs": [
    {
     "name": "stdout",
     "output_type": "stream",
     "text": [
      "\n",
      " Chi-Square test between chrodse and target \n",
      " \n",
      " target     0.0    1.0    All\n",
      "chrodse                     \n",
      "0.0      51.13  48.87  100.0\n",
      "1.0      52.29  47.71  100.0\n",
      "All      51.60  48.40  100.0 \n",
      " \n",
      " Pearson Chi2(1)= 0.0132 p-value= 0.9086\n"
     ]
    }
   ],
   "source": [
    "chi2_table(df['chrodse'], df['target'])"
   ]
  },
  {
   "cell_type": "markdown",
   "id": "91ef7c83",
   "metadata": {},
   "source": [
    "## Perceived Health Status"
   ]
  },
  {
   "cell_type": "code",
   "execution_count": 22,
   "id": "dfc882f6",
   "metadata": {},
   "outputs": [
    {
     "name": "stdout",
     "output_type": "stream",
     "text": [
      "1.0    259\n",
      "0.0    119\n",
      "NaN      2\n",
      "Name: prhealth, dtype: int64\n"
     ]
    },
    {
     "data": {
      "text/html": [
       "<div>\n",
       "<style scoped>\n",
       "    .dataframe tbody tr th:only-of-type {\n",
       "        vertical-align: middle;\n",
       "    }\n",
       "\n",
       "    .dataframe tbody tr th {\n",
       "        vertical-align: top;\n",
       "    }\n",
       "\n",
       "    .dataframe thead th {\n",
       "        text-align: right;\n",
       "    }\n",
       "</style>\n",
       "<table border=\"1\" class=\"dataframe\">\n",
       "  <thead>\n",
       "    <tr style=\"text-align: right;\">\n",
       "      <th>target</th>\n",
       "      <th>0.0</th>\n",
       "      <th>1.0</th>\n",
       "      <th>All</th>\n",
       "    </tr>\n",
       "    <tr>\n",
       "      <th>prhealth</th>\n",
       "      <th></th>\n",
       "      <th></th>\n",
       "      <th></th>\n",
       "    </tr>\n",
       "  </thead>\n",
       "  <tbody>\n",
       "    <tr>\n",
       "      <th>0.0</th>\n",
       "      <td>64</td>\n",
       "      <td>55</td>\n",
       "      <td>119</td>\n",
       "    </tr>\n",
       "    <tr>\n",
       "      <th>1.0</th>\n",
       "      <td>129</td>\n",
       "      <td>130</td>\n",
       "      <td>259</td>\n",
       "    </tr>\n",
       "    <tr>\n",
       "      <th>missing</th>\n",
       "      <td>2</td>\n",
       "      <td>0</td>\n",
       "      <td>2</td>\n",
       "    </tr>\n",
       "    <tr>\n",
       "      <th>All</th>\n",
       "      <td>195</td>\n",
       "      <td>185</td>\n",
       "      <td>380</td>\n",
       "    </tr>\n",
       "  </tbody>\n",
       "</table>\n",
       "</div>"
      ],
      "text/plain": [
       "target    0.0  1.0  All\n",
       "prhealth               \n",
       "0.0        64   55  119\n",
       "1.0       129  130  259\n",
       "missing     2    0    2\n",
       "All       195  185  380"
      ]
     },
     "execution_count": 22,
     "metadata": {},
     "output_type": "execute_result"
    }
   ],
   "source": [
    "# yes / no - binary\n",
    "\n",
    "print(df['prhealth'].value_counts(dropna=False))\n",
    "\n",
    "pd.crosstab(df['prhealth'].fillna('missing'),df['target'].fillna('missing'),margins=True)"
   ]
  },
  {
   "cell_type": "code",
   "execution_count": 23,
   "id": "6495cc0e",
   "metadata": {},
   "outputs": [
    {
     "name": "stdout",
     "output_type": "stream",
     "text": [
      "\n",
      " Chi-Square test between prhealth and target \n",
      " \n",
      " target      0.0    1.0    All\n",
      "prhealth                     \n",
      "0.0       53.78  46.22  100.0\n",
      "1.0       49.81  50.19  100.0\n",
      "All       51.06  48.94  100.0 \n",
      " \n",
      " Pearson Chi2(1)= 0.3687 p-value= 0.5437\n"
     ]
    }
   ],
   "source": [
    "chi2_table(df['prhealth'], df['target'])"
   ]
  },
  {
   "cell_type": "markdown",
   "id": "b740ccff",
   "metadata": {},
   "source": [
    "## Pyschilogical distress"
   ]
  },
  {
   "cell_type": "code",
   "execution_count": 24,
   "id": "8e2dc292",
   "metadata": {},
   "outputs": [
    {
     "name": "stdout",
     "output_type": "stream",
     "text": [
      "0.0    306\n",
      "1.0     73\n",
      "NaN      1\n",
      "Name: psydist, dtype: int64\n"
     ]
    },
    {
     "data": {
      "text/html": [
       "<div>\n",
       "<style scoped>\n",
       "    .dataframe tbody tr th:only-of-type {\n",
       "        vertical-align: middle;\n",
       "    }\n",
       "\n",
       "    .dataframe tbody tr th {\n",
       "        vertical-align: top;\n",
       "    }\n",
       "\n",
       "    .dataframe thead th {\n",
       "        text-align: right;\n",
       "    }\n",
       "</style>\n",
       "<table border=\"1\" class=\"dataframe\">\n",
       "  <thead>\n",
       "    <tr style=\"text-align: right;\">\n",
       "      <th>target</th>\n",
       "      <th>0.0</th>\n",
       "      <th>1.0</th>\n",
       "      <th>All</th>\n",
       "    </tr>\n",
       "    <tr>\n",
       "      <th>psydist</th>\n",
       "      <th></th>\n",
       "      <th></th>\n",
       "      <th></th>\n",
       "    </tr>\n",
       "  </thead>\n",
       "  <tbody>\n",
       "    <tr>\n",
       "      <th>0.0</th>\n",
       "      <td>157</td>\n",
       "      <td>149</td>\n",
       "      <td>306</td>\n",
       "    </tr>\n",
       "    <tr>\n",
       "      <th>1.0</th>\n",
       "      <td>37</td>\n",
       "      <td>36</td>\n",
       "      <td>73</td>\n",
       "    </tr>\n",
       "    <tr>\n",
       "      <th>missing</th>\n",
       "      <td>1</td>\n",
       "      <td>0</td>\n",
       "      <td>1</td>\n",
       "    </tr>\n",
       "    <tr>\n",
       "      <th>All</th>\n",
       "      <td>195</td>\n",
       "      <td>185</td>\n",
       "      <td>380</td>\n",
       "    </tr>\n",
       "  </tbody>\n",
       "</table>\n",
       "</div>"
      ],
      "text/plain": [
       "target   0.0  1.0  All\n",
       "psydist               \n",
       "0.0      157  149  306\n",
       "1.0       37   36   73\n",
       "missing    1    0    1\n",
       "All      195  185  380"
      ]
     },
     "execution_count": 24,
     "metadata": {},
     "output_type": "execute_result"
    }
   ],
   "source": [
    "# yes / no - binary\n",
    "\n",
    "print(df['psydist'].value_counts(dropna=False))\n",
    "\n",
    "pd.crosstab(df['psydist'].fillna('missing'),df['target'].fillna('missing'),margins=True)"
   ]
  },
  {
   "cell_type": "code",
   "execution_count": 25,
   "id": "4c079e65",
   "metadata": {},
   "outputs": [
    {
     "name": "stdout",
     "output_type": "stream",
     "text": [
      "\n",
      " Chi-Square test between psydist and target \n",
      " \n",
      " target     0.0    1.0    All\n",
      "psydist                     \n",
      "0.0      51.31  48.69  100.0\n",
      "1.0      50.68  49.32  100.0\n",
      "All      51.19  48.81  100.0 \n",
      " \n",
      " Pearson Chi2(1)= 0.0000 p-value= 1.0000\n"
     ]
    }
   ],
   "source": [
    "chi2_table(df['psydist'], df['target'])"
   ]
  },
  {
   "cell_type": "markdown",
   "id": "941f323b",
   "metadata": {},
   "source": [
    "## Depressive Symptoms"
   ]
  },
  {
   "cell_type": "code",
   "execution_count": 26,
   "id": "28f46df0",
   "metadata": {},
   "outputs": [
    {
     "name": "stdout",
     "output_type": "stream",
     "text": [
      "0.0    271\n",
      "1.0     85\n",
      "2.0     23\n",
      "NaN      1\n",
      "Name: BDI3, dtype: int64\n"
     ]
    },
    {
     "data": {
      "text/html": [
       "<div>\n",
       "<style scoped>\n",
       "    .dataframe tbody tr th:only-of-type {\n",
       "        vertical-align: middle;\n",
       "    }\n",
       "\n",
       "    .dataframe tbody tr th {\n",
       "        vertical-align: top;\n",
       "    }\n",
       "\n",
       "    .dataframe thead th {\n",
       "        text-align: right;\n",
       "    }\n",
       "</style>\n",
       "<table border=\"1\" class=\"dataframe\">\n",
       "  <thead>\n",
       "    <tr style=\"text-align: right;\">\n",
       "      <th>target</th>\n",
       "      <th>0.0</th>\n",
       "      <th>1.0</th>\n",
       "      <th>All</th>\n",
       "    </tr>\n",
       "    <tr>\n",
       "      <th>BDI3</th>\n",
       "      <th></th>\n",
       "      <th></th>\n",
       "      <th></th>\n",
       "    </tr>\n",
       "  </thead>\n",
       "  <tbody>\n",
       "    <tr>\n",
       "      <th>0.0</th>\n",
       "      <td>134</td>\n",
       "      <td>137</td>\n",
       "      <td>271</td>\n",
       "    </tr>\n",
       "    <tr>\n",
       "      <th>1.0</th>\n",
       "      <td>50</td>\n",
       "      <td>35</td>\n",
       "      <td>85</td>\n",
       "    </tr>\n",
       "    <tr>\n",
       "      <th>2.0</th>\n",
       "      <td>10</td>\n",
       "      <td>13</td>\n",
       "      <td>23</td>\n",
       "    </tr>\n",
       "    <tr>\n",
       "      <th>missing</th>\n",
       "      <td>1</td>\n",
       "      <td>0</td>\n",
       "      <td>1</td>\n",
       "    </tr>\n",
       "    <tr>\n",
       "      <th>All</th>\n",
       "      <td>195</td>\n",
       "      <td>185</td>\n",
       "      <td>380</td>\n",
       "    </tr>\n",
       "  </tbody>\n",
       "</table>\n",
       "</div>"
      ],
      "text/plain": [
       "target   0.0  1.0  All\n",
       "BDI3                  \n",
       "0.0      134  137  271\n",
       "1.0       50   35   85\n",
       "2.0       10   13   23\n",
       "missing    1    0    1\n",
       "All      195  185  380"
      ]
     },
     "execution_count": 26,
     "metadata": {},
     "output_type": "execute_result"
    }
   ],
   "source": [
    "# categoric \n",
    "\n",
    "# minimal\n",
    "# mild\n",
    "# moderate\n",
    "\n",
    "print(df['BDI3'].value_counts(dropna=False))\n",
    "\n",
    "pd.crosstab(df['BDI3'].fillna('missing'),df['target'].fillna('missing'),margins=True)"
   ]
  },
  {
   "cell_type": "code",
   "execution_count": 27,
   "id": "87fb438b",
   "metadata": {},
   "outputs": [
    {
     "name": "stdout",
     "output_type": "stream",
     "text": [
      "\n",
      " Chi-Square test between BDI3 and target \n",
      " \n",
      " target    0.0    1.0    All\n",
      "BDI3                       \n",
      "0.0     49.45  50.55  100.0\n",
      "1.0     58.82  41.18  100.0\n",
      "2.0     43.48  56.52  100.0\n",
      "All     51.19  48.81  100.0 \n",
      " \n",
      " Pearson Chi2(2)= 2.8595 p-value= 0.2394\n"
     ]
    }
   ],
   "source": [
    "chi2_table(df['BDI3'], df['target'])"
   ]
  },
  {
   "cell_type": "markdown",
   "id": "4daac349",
   "metadata": {},
   "source": [
    "## Sense of coherance"
   ]
  },
  {
   "cell_type": "code",
   "execution_count": 28,
   "id": "0359bd0d",
   "metadata": {},
   "outputs": [
    {
     "name": "stdout",
     "output_type": "stream",
     "text": [
      "count    365.000000\n",
      "mean      65.057534\n",
      "std        9.141409\n",
      "min       40.000000\n",
      "25%       60.000000\n",
      "50%       66.000000\n",
      "75%       72.000000\n",
      "max       84.000000\n",
      "Name: sensecoh, dtype: float64\n"
     ]
    }
   ],
   "source": [
    "# continous\n",
    "\n",
    "print(df['sensecoh'].describe())\n"
   ]
  },
  {
   "cell_type": "markdown",
   "id": "1cedce52",
   "metadata": {},
   "source": [
    "## Age of first drink"
   ]
  },
  {
   "cell_type": "code",
   "execution_count": 29,
   "id": "6d398625",
   "metadata": {},
   "outputs": [
    {
     "name": "stdout",
     "output_type": "stream",
     "text": [
      "count    377.000000\n",
      "mean      19.660477\n",
      "std        5.434949\n",
      "min        8.000000\n",
      "25%       17.000000\n",
      "50%       18.000000\n",
      "75%       20.000000\n",
      "max       51.000000\n",
      "Name: ageatfdr, dtype: float64\n"
     ]
    }
   ],
   "source": [
    "# continious\n",
    "print(df['ageatfdr'].describe())"
   ]
  },
  {
   "cell_type": "markdown",
   "id": "7d12a1d2",
   "metadata": {},
   "source": [
    "## Family alcohol history"
   ]
  },
  {
   "cell_type": "code",
   "execution_count": 30,
   "id": "9eeceb48",
   "metadata": {},
   "outputs": [
    {
     "name": "stdout",
     "output_type": "stream",
     "text": [
      "0.0    279\n",
      "1.0    101\n",
      "Name: familyhist, dtype: int64\n"
     ]
    },
    {
     "data": {
      "text/html": [
       "<div>\n",
       "<style scoped>\n",
       "    .dataframe tbody tr th:only-of-type {\n",
       "        vertical-align: middle;\n",
       "    }\n",
       "\n",
       "    .dataframe tbody tr th {\n",
       "        vertical-align: top;\n",
       "    }\n",
       "\n",
       "    .dataframe thead th {\n",
       "        text-align: right;\n",
       "    }\n",
       "</style>\n",
       "<table border=\"1\" class=\"dataframe\">\n",
       "  <thead>\n",
       "    <tr style=\"text-align: right;\">\n",
       "      <th>target</th>\n",
       "      <th>0.0</th>\n",
       "      <th>1.0</th>\n",
       "      <th>All</th>\n",
       "    </tr>\n",
       "    <tr>\n",
       "      <th>familyhist</th>\n",
       "      <th></th>\n",
       "      <th></th>\n",
       "      <th></th>\n",
       "    </tr>\n",
       "  </thead>\n",
       "  <tbody>\n",
       "    <tr>\n",
       "      <th>0.0</th>\n",
       "      <td>146</td>\n",
       "      <td>133</td>\n",
       "      <td>279</td>\n",
       "    </tr>\n",
       "    <tr>\n",
       "      <th>1.0</th>\n",
       "      <td>49</td>\n",
       "      <td>52</td>\n",
       "      <td>101</td>\n",
       "    </tr>\n",
       "    <tr>\n",
       "      <th>All</th>\n",
       "      <td>195</td>\n",
       "      <td>185</td>\n",
       "      <td>380</td>\n",
       "    </tr>\n",
       "  </tbody>\n",
       "</table>\n",
       "</div>"
      ],
      "text/plain": [
       "target      0.0  1.0  All\n",
       "familyhist               \n",
       "0.0         146  133  279\n",
       "1.0          49   52  101\n",
       "All         195  185  380"
      ]
     },
     "execution_count": 30,
     "metadata": {},
     "output_type": "execute_result"
    }
   ],
   "source": [
    "# binary\n",
    "print(df['familyhist'].value_counts(dropna=False))\n",
    "\n",
    "\n",
    "pd.crosstab(df['familyhist'].fillna('missing'),df['target'].fillna('missing'),margins=True)"
   ]
  },
  {
   "cell_type": "code",
   "execution_count": 31,
   "id": "6162e4e3",
   "metadata": {},
   "outputs": [
    {
     "name": "stdout",
     "output_type": "stream",
     "text": [
      "\n",
      " Chi-Square test between familyhist and target \n",
      " \n",
      " target        0.0    1.0    All\n",
      "familyhist                     \n",
      "0.0         52.33  47.67  100.0\n",
      "1.0         48.51  51.49  100.0\n",
      "All         51.32  48.68  100.0 \n",
      " \n",
      " Pearson Chi2(1)= 0.2928 p-value= 0.5884\n"
     ]
    }
   ],
   "source": [
    "chi2_table(df['familyhist'], df['target'])"
   ]
  },
  {
   "cell_type": "markdown",
   "id": "94b1e01d",
   "metadata": {},
   "source": [
    "## Daily smoking"
   ]
  },
  {
   "cell_type": "code",
   "execution_count": 32,
   "id": "e6ff62c1",
   "metadata": {},
   "outputs": [
    {
     "name": "stdout",
     "output_type": "stream",
     "text": [
      "0.0    249\n",
      "1.0    129\n",
      "NaN      2\n",
      "Name: smoking, dtype: int64\n"
     ]
    },
    {
     "data": {
      "text/html": [
       "<div>\n",
       "<style scoped>\n",
       "    .dataframe tbody tr th:only-of-type {\n",
       "        vertical-align: middle;\n",
       "    }\n",
       "\n",
       "    .dataframe tbody tr th {\n",
       "        vertical-align: top;\n",
       "    }\n",
       "\n",
       "    .dataframe thead th {\n",
       "        text-align: right;\n",
       "    }\n",
       "</style>\n",
       "<table border=\"1\" class=\"dataframe\">\n",
       "  <thead>\n",
       "    <tr style=\"text-align: right;\">\n",
       "      <th>target</th>\n",
       "      <th>0.0</th>\n",
       "      <th>1.0</th>\n",
       "      <th>All</th>\n",
       "    </tr>\n",
       "    <tr>\n",
       "      <th>smoking</th>\n",
       "      <th></th>\n",
       "      <th></th>\n",
       "      <th></th>\n",
       "    </tr>\n",
       "  </thead>\n",
       "  <tbody>\n",
       "    <tr>\n",
       "      <th>0.0</th>\n",
       "      <td>141</td>\n",
       "      <td>108</td>\n",
       "      <td>249</td>\n",
       "    </tr>\n",
       "    <tr>\n",
       "      <th>1.0</th>\n",
       "      <td>52</td>\n",
       "      <td>77</td>\n",
       "      <td>129</td>\n",
       "    </tr>\n",
       "    <tr>\n",
       "      <th>missing</th>\n",
       "      <td>2</td>\n",
       "      <td>0</td>\n",
       "      <td>2</td>\n",
       "    </tr>\n",
       "    <tr>\n",
       "      <th>All</th>\n",
       "      <td>195</td>\n",
       "      <td>185</td>\n",
       "      <td>380</td>\n",
       "    </tr>\n",
       "  </tbody>\n",
       "</table>\n",
       "</div>"
      ],
      "text/plain": [
       "target   0.0  1.0  All\n",
       "smoking               \n",
       "0.0      141  108  249\n",
       "1.0       52   77  129\n",
       "missing    2    0    2\n",
       "All      195  185  380"
      ]
     },
     "execution_count": 32,
     "metadata": {},
     "output_type": "execute_result"
    }
   ],
   "source": [
    "#binary\n",
    "\n",
    "print(df['smoking'].value_counts(dropna=False))\n",
    "\n",
    "pd.crosstab(df['smoking'].fillna('missing'),df['target'].fillna('missing'),margins=True)"
   ]
  },
  {
   "cell_type": "code",
   "execution_count": 33,
   "id": "eb0062fb",
   "metadata": {},
   "outputs": [
    {
     "name": "stdout",
     "output_type": "stream",
     "text": [
      "\n",
      " Chi-Square test between smoking and target \n",
      " \n",
      " target     0.0    1.0    All\n",
      "smoking                     \n",
      "0.0      56.63  43.37  100.0\n",
      "1.0      40.31  59.69  100.0\n",
      "All      51.06  48.94  100.0 \n",
      " \n",
      " Pearson Chi2(1)= 8.4120 p-value= 0.0037\n"
     ]
    }
   ],
   "source": [
    "chi2_table(df['smoking'], df['target'])"
   ]
  },
  {
   "cell_type": "markdown",
   "id": "38149a39",
   "metadata": {},
   "source": [
    "## Physical activitiy"
   ]
  },
  {
   "cell_type": "code",
   "execution_count": 34,
   "id": "e0720b20",
   "metadata": {},
   "outputs": [
    {
     "name": "stdout",
     "output_type": "stream",
     "text": [
      "4.0    161\n",
      "3.0    109\n",
      "2.0     95\n",
      "1.0     15\n",
      "Name: phyact4, dtype: int64\n",
      "---------------\n",
      "\n",
      "target   0.0  1.0  All\n",
      "phyact4               \n",
      "1.0       10    5   15\n",
      "2.0       55   40   95\n",
      "3.0       61   48  109\n",
      "4.0       69   92  161\n",
      "All      195  185  380\n",
      "Reorder \n",
      " 1.0    161\n",
      "2.0    109\n",
      "3.0     95\n",
      "4.0     15\n",
      "Name: phyact, dtype: int64\n"
     ]
    }
   ],
   "source": [
    "# cateogric\n",
    "# 1 highly to 4 inactive \n",
    "\n",
    "\n",
    "print(df['phyact4'].value_counts(dropna=False))\n",
    "print('---------------\\n')\n",
    "print(pd.crosstab(df['phyact4'].fillna('missing'),df['target'].fillna('missing'),margins=True))\n",
    "\n",
    "# changing order \n",
    "df[\"phyact4\"].replace({1:4, 2:3, 3:2, 4:1}, inplace= True)\n",
    "\n",
    "df['phyact'] = df['phyact4']\n",
    "\n",
    "print('Reorder \\n', df['phyact'].value_counts(dropna=False))"
   ]
  },
  {
   "cell_type": "code",
   "execution_count": 35,
   "id": "95981698",
   "metadata": {},
   "outputs": [
    {
     "name": "stdout",
     "output_type": "stream",
     "text": [
      "\n",
      " Chi-Square test between phyact and target \n",
      " \n",
      " target    0.0    1.0    All\n",
      "phyact                     \n",
      "1.0     42.86  57.14  100.0\n",
      "2.0     55.96  44.04  100.0\n",
      "3.0     57.89  42.11  100.0\n",
      "4.0     66.67  33.33  100.0\n",
      "All     51.32  48.68  100.0 \n",
      " \n",
      " Pearson Chi2(3)= 8.6141 p-value= 0.0349\n"
     ]
    }
   ],
   "source": [
    "chi2_table(df['phyact'], df['target'])"
   ]
  },
  {
   "cell_type": "markdown",
   "id": "36c38133",
   "metadata": {},
   "source": [
    "# Data Processing "
   ]
  },
  {
   "cell_type": "code",
   "execution_count": 36,
   "id": "27eefa25",
   "metadata": {},
   "outputs": [],
   "source": [
    "binary_list = ['gn', 'household', 'psydsord', 'chrodse', 'prhealth', 'psydist', 'familyhist', 'smoking']\n",
    "\n",
    "categoric_list = ['age', 'edu', 'ecactiv', 'BDI3', 'phyact']\n",
    "\n",
    "numeric_list = ['weight', 'sensecoh', 'ageatfdr']"
   ]
  },
  {
   "cell_type": "code",
   "execution_count": 37,
   "id": "c527d438",
   "metadata": {},
   "outputs": [
    {
     "data": {
      "text/plain": [
       "gn            0\n",
       "household     2\n",
       "psydsord      0\n",
       "chrodse       6\n",
       "prhealth      2\n",
       "psydist       1\n",
       "familyhist    0\n",
       "smoking       2\n",
       "dtype: int64"
      ]
     },
     "execution_count": 37,
     "metadata": {},
     "output_type": "execute_result"
    }
   ],
   "source": [
    "df[binary_list].isnull().sum()"
   ]
  },
  {
   "cell_type": "code",
   "execution_count": 38,
   "id": "8ceecbe6",
   "metadata": {},
   "outputs": [
    {
     "data": {
      "text/plain": [
       "age        0\n",
       "edu        2\n",
       "ecactiv    9\n",
       "BDI3       1\n",
       "phyact     0\n",
       "dtype: int64"
      ]
     },
     "execution_count": 38,
     "metadata": {},
     "output_type": "execute_result"
    }
   ],
   "source": [
    "df[categoric_list].isnull().sum()"
   ]
  },
  {
   "cell_type": "code",
   "execution_count": 39,
   "id": "ce25da74",
   "metadata": {},
   "outputs": [
    {
     "data": {
      "text/plain": [
       "weight       0\n",
       "sensecoh    15\n",
       "ageatfdr     3\n",
       "dtype: int64"
      ]
     },
     "execution_count": 39,
     "metadata": {},
     "output_type": "execute_result"
    }
   ],
   "source": [
    "df[numeric_list].isnull().sum()"
   ]
  },
  {
   "cell_type": "markdown",
   "id": "3bf5e91b",
   "metadata": {},
   "source": [
    "## Recoded data"
   ]
  },
  {
   "cell_type": "code",
   "execution_count": 40,
   "id": "fcbdb289",
   "metadata": {},
   "outputs": [
    {
     "data": {
      "text/html": [
       "<div>\n",
       "<style scoped>\n",
       "    .dataframe tbody tr th:only-of-type {\n",
       "        vertical-align: middle;\n",
       "    }\n",
       "\n",
       "    .dataframe tbody tr th {\n",
       "        vertical-align: top;\n",
       "    }\n",
       "\n",
       "    .dataframe thead th {\n",
       "        text-align: right;\n",
       "    }\n",
       "</style>\n",
       "<table border=\"1\" class=\"dataframe\">\n",
       "  <thead>\n",
       "    <tr style=\"text-align: right;\">\n",
       "      <th></th>\n",
       "      <th>0</th>\n",
       "      <th>1</th>\n",
       "      <th>2</th>\n",
       "      <th>3</th>\n",
       "      <th>4</th>\n",
       "    </tr>\n",
       "  </thead>\n",
       "  <tbody>\n",
       "    <tr>\n",
       "      <th>target</th>\n",
       "      <td>0.000000</td>\n",
       "      <td>1.000000</td>\n",
       "      <td>1.000000</td>\n",
       "      <td>0.000000</td>\n",
       "      <td>1.000000</td>\n",
       "    </tr>\n",
       "    <tr>\n",
       "      <th>weight</th>\n",
       "      <td>1.086293</td>\n",
       "      <td>1.086293</td>\n",
       "      <td>1.086293</td>\n",
       "      <td>1.086293</td>\n",
       "      <td>0.945237</td>\n",
       "    </tr>\n",
       "    <tr>\n",
       "      <th>sensecoh</th>\n",
       "      <td>65.000000</td>\n",
       "      <td>73.000000</td>\n",
       "      <td>59.000000</td>\n",
       "      <td>64.000000</td>\n",
       "      <td>58.000000</td>\n",
       "    </tr>\n",
       "    <tr>\n",
       "      <th>ageatfdr</th>\n",
       "      <td>17.000000</td>\n",
       "      <td>19.000000</td>\n",
       "      <td>18.000000</td>\n",
       "      <td>17.000000</td>\n",
       "      <td>15.000000</td>\n",
       "    </tr>\n",
       "    <tr>\n",
       "      <th>gn</th>\n",
       "      <td>1.000000</td>\n",
       "      <td>1.000000</td>\n",
       "      <td>1.000000</td>\n",
       "      <td>1.000000</td>\n",
       "      <td>2.000000</td>\n",
       "    </tr>\n",
       "    <tr>\n",
       "      <th>household</th>\n",
       "      <td>0.000000</td>\n",
       "      <td>0.000000</td>\n",
       "      <td>0.000000</td>\n",
       "      <td>0.000000</td>\n",
       "      <td>0.000000</td>\n",
       "    </tr>\n",
       "    <tr>\n",
       "      <th>psydsord</th>\n",
       "      <td>0.000000</td>\n",
       "      <td>0.000000</td>\n",
       "      <td>0.000000</td>\n",
       "      <td>0.000000</td>\n",
       "      <td>0.000000</td>\n",
       "    </tr>\n",
       "    <tr>\n",
       "      <th>chrodse</th>\n",
       "      <td>1.000000</td>\n",
       "      <td>1.000000</td>\n",
       "      <td>0.000000</td>\n",
       "      <td>0.000000</td>\n",
       "      <td>0.000000</td>\n",
       "    </tr>\n",
       "    <tr>\n",
       "      <th>prhealth</th>\n",
       "      <td>1.000000</td>\n",
       "      <td>1.000000</td>\n",
       "      <td>1.000000</td>\n",
       "      <td>1.000000</td>\n",
       "      <td>1.000000</td>\n",
       "    </tr>\n",
       "    <tr>\n",
       "      <th>psydist</th>\n",
       "      <td>0.000000</td>\n",
       "      <td>0.000000</td>\n",
       "      <td>0.000000</td>\n",
       "      <td>0.000000</td>\n",
       "      <td>1.000000</td>\n",
       "    </tr>\n",
       "    <tr>\n",
       "      <th>familyhist</th>\n",
       "      <td>1.000000</td>\n",
       "      <td>0.000000</td>\n",
       "      <td>0.000000</td>\n",
       "      <td>0.000000</td>\n",
       "      <td>0.000000</td>\n",
       "    </tr>\n",
       "    <tr>\n",
       "      <th>smoking</th>\n",
       "      <td>1.000000</td>\n",
       "      <td>0.000000</td>\n",
       "      <td>1.000000</td>\n",
       "      <td>0.000000</td>\n",
       "      <td>0.000000</td>\n",
       "    </tr>\n",
       "    <tr>\n",
       "      <th>age</th>\n",
       "      <td>1.000000</td>\n",
       "      <td>1.000000</td>\n",
       "      <td>1.000000</td>\n",
       "      <td>1.000000</td>\n",
       "      <td>1.000000</td>\n",
       "    </tr>\n",
       "    <tr>\n",
       "      <th>edu</th>\n",
       "      <td>2.000000</td>\n",
       "      <td>3.000000</td>\n",
       "      <td>1.000000</td>\n",
       "      <td>3.000000</td>\n",
       "      <td>2.000000</td>\n",
       "    </tr>\n",
       "    <tr>\n",
       "      <th>ecactiv</th>\n",
       "      <td>1.000000</td>\n",
       "      <td>1.000000</td>\n",
       "      <td>1.000000</td>\n",
       "      <td>1.000000</td>\n",
       "      <td>2.000000</td>\n",
       "    </tr>\n",
       "    <tr>\n",
       "      <th>BDI3</th>\n",
       "      <td>0.000000</td>\n",
       "      <td>0.000000</td>\n",
       "      <td>0.000000</td>\n",
       "      <td>0.000000</td>\n",
       "      <td>0.000000</td>\n",
       "    </tr>\n",
       "    <tr>\n",
       "      <th>phyact</th>\n",
       "      <td>1.000000</td>\n",
       "      <td>2.000000</td>\n",
       "      <td>2.000000</td>\n",
       "      <td>1.000000</td>\n",
       "      <td>2.000000</td>\n",
       "    </tr>\n",
       "  </tbody>\n",
       "</table>\n",
       "</div>"
      ],
      "text/plain": [
       "                    0          1          2          3          4\n",
       "target       0.000000   1.000000   1.000000   0.000000   1.000000\n",
       "weight       1.086293   1.086293   1.086293   1.086293   0.945237\n",
       "sensecoh    65.000000  73.000000  59.000000  64.000000  58.000000\n",
       "ageatfdr    17.000000  19.000000  18.000000  17.000000  15.000000\n",
       "gn           1.000000   1.000000   1.000000   1.000000   2.000000\n",
       "household    0.000000   0.000000   0.000000   0.000000   0.000000\n",
       "psydsord     0.000000   0.000000   0.000000   0.000000   0.000000\n",
       "chrodse      1.000000   1.000000   0.000000   0.000000   0.000000\n",
       "prhealth     1.000000   1.000000   1.000000   1.000000   1.000000\n",
       "psydist      0.000000   0.000000   0.000000   0.000000   1.000000\n",
       "familyhist   1.000000   0.000000   0.000000   0.000000   0.000000\n",
       "smoking      1.000000   0.000000   1.000000   0.000000   0.000000\n",
       "age          1.000000   1.000000   1.000000   1.000000   1.000000\n",
       "edu          2.000000   3.000000   1.000000   3.000000   2.000000\n",
       "ecactiv      1.000000   1.000000   1.000000   1.000000   2.000000\n",
       "BDI3         0.000000   0.000000   0.000000   0.000000   0.000000\n",
       "phyact       1.000000   2.000000   2.000000   1.000000   2.000000"
      ]
     },
     "execution_count": 40,
     "metadata": {},
     "output_type": "execute_result"
    }
   ],
   "source": [
    "target = ['target']\n",
    "new_data = target+numeric_list + binary_list + categoric_list\n",
    "\n",
    "data= df[new_data]\n",
    "data.head().T"
   ]
  },
  {
   "cell_type": "code",
   "execution_count": 41,
   "id": "5769f934",
   "metadata": {},
   "outputs": [
    {
     "data": {
      "text/plain": [
       "(380, 17)"
      ]
     },
     "execution_count": 41,
     "metadata": {},
     "output_type": "execute_result"
    }
   ],
   "source": [
    "data.shape"
   ]
  },
  {
   "cell_type": "markdown",
   "id": "03f541b6",
   "metadata": {},
   "source": [
    "### Dummy"
   ]
  },
  {
   "cell_type": "code",
   "execution_count": 42,
   "id": "9551b5d5",
   "metadata": {},
   "outputs": [
    {
     "data": {
      "text/plain": [
       "(380, 29)"
      ]
     },
     "execution_count": 42,
     "metadata": {},
     "output_type": "execute_result"
    }
   ],
   "source": [
    "data = pd.get_dummies(data, columns = binary_list, drop_first=True)\n",
    "data= pd.get_dummies(data,columns=categoric_list)\n",
    "data.shape"
   ]
  },
  {
   "cell_type": "code",
   "execution_count": 43,
   "id": "461b902b",
   "metadata": {},
   "outputs": [
    {
     "data": {
      "text/html": [
       "<div>\n",
       "<style scoped>\n",
       "    .dataframe tbody tr th:only-of-type {\n",
       "        vertical-align: middle;\n",
       "    }\n",
       "\n",
       "    .dataframe tbody tr th {\n",
       "        vertical-align: top;\n",
       "    }\n",
       "\n",
       "    .dataframe thead th {\n",
       "        text-align: right;\n",
       "    }\n",
       "</style>\n",
       "<table border=\"1\" class=\"dataframe\">\n",
       "  <thead>\n",
       "    <tr style=\"text-align: right;\">\n",
       "      <th></th>\n",
       "      <th>0</th>\n",
       "      <th>1</th>\n",
       "      <th>2</th>\n",
       "      <th>3</th>\n",
       "      <th>4</th>\n",
       "    </tr>\n",
       "  </thead>\n",
       "  <tbody>\n",
       "    <tr>\n",
       "      <th>target</th>\n",
       "      <td>0.000000</td>\n",
       "      <td>1.000000</td>\n",
       "      <td>1.000000</td>\n",
       "      <td>0.000000</td>\n",
       "      <td>1.000000</td>\n",
       "    </tr>\n",
       "    <tr>\n",
       "      <th>weight</th>\n",
       "      <td>1.086293</td>\n",
       "      <td>1.086293</td>\n",
       "      <td>1.086293</td>\n",
       "      <td>1.086293</td>\n",
       "      <td>0.945237</td>\n",
       "    </tr>\n",
       "    <tr>\n",
       "      <th>sensecoh</th>\n",
       "      <td>65.000000</td>\n",
       "      <td>73.000000</td>\n",
       "      <td>59.000000</td>\n",
       "      <td>64.000000</td>\n",
       "      <td>58.000000</td>\n",
       "    </tr>\n",
       "    <tr>\n",
       "      <th>ageatfdr</th>\n",
       "      <td>17.000000</td>\n",
       "      <td>19.000000</td>\n",
       "      <td>18.000000</td>\n",
       "      <td>17.000000</td>\n",
       "      <td>15.000000</td>\n",
       "    </tr>\n",
       "    <tr>\n",
       "      <th>gn_2.0</th>\n",
       "      <td>0.000000</td>\n",
       "      <td>0.000000</td>\n",
       "      <td>0.000000</td>\n",
       "      <td>0.000000</td>\n",
       "      <td>1.000000</td>\n",
       "    </tr>\n",
       "    <tr>\n",
       "      <th>household_1.0</th>\n",
       "      <td>0.000000</td>\n",
       "      <td>0.000000</td>\n",
       "      <td>0.000000</td>\n",
       "      <td>0.000000</td>\n",
       "      <td>0.000000</td>\n",
       "    </tr>\n",
       "    <tr>\n",
       "      <th>psydsord_1.0</th>\n",
       "      <td>0.000000</td>\n",
       "      <td>0.000000</td>\n",
       "      <td>0.000000</td>\n",
       "      <td>0.000000</td>\n",
       "      <td>0.000000</td>\n",
       "    </tr>\n",
       "    <tr>\n",
       "      <th>chrodse_1.0</th>\n",
       "      <td>1.000000</td>\n",
       "      <td>1.000000</td>\n",
       "      <td>0.000000</td>\n",
       "      <td>0.000000</td>\n",
       "      <td>0.000000</td>\n",
       "    </tr>\n",
       "    <tr>\n",
       "      <th>prhealth_1.0</th>\n",
       "      <td>1.000000</td>\n",
       "      <td>1.000000</td>\n",
       "      <td>1.000000</td>\n",
       "      <td>1.000000</td>\n",
       "      <td>1.000000</td>\n",
       "    </tr>\n",
       "    <tr>\n",
       "      <th>psydist_1.0</th>\n",
       "      <td>0.000000</td>\n",
       "      <td>0.000000</td>\n",
       "      <td>0.000000</td>\n",
       "      <td>0.000000</td>\n",
       "      <td>1.000000</td>\n",
       "    </tr>\n",
       "    <tr>\n",
       "      <th>familyhist_1.0</th>\n",
       "      <td>1.000000</td>\n",
       "      <td>0.000000</td>\n",
       "      <td>0.000000</td>\n",
       "      <td>0.000000</td>\n",
       "      <td>0.000000</td>\n",
       "    </tr>\n",
       "    <tr>\n",
       "      <th>smoking_1.0</th>\n",
       "      <td>1.000000</td>\n",
       "      <td>0.000000</td>\n",
       "      <td>1.000000</td>\n",
       "      <td>0.000000</td>\n",
       "      <td>0.000000</td>\n",
       "    </tr>\n",
       "    <tr>\n",
       "      <th>age_1.0</th>\n",
       "      <td>1.000000</td>\n",
       "      <td>1.000000</td>\n",
       "      <td>1.000000</td>\n",
       "      <td>1.000000</td>\n",
       "      <td>1.000000</td>\n",
       "    </tr>\n",
       "    <tr>\n",
       "      <th>age_2.0</th>\n",
       "      <td>0.000000</td>\n",
       "      <td>0.000000</td>\n",
       "      <td>0.000000</td>\n",
       "      <td>0.000000</td>\n",
       "      <td>0.000000</td>\n",
       "    </tr>\n",
       "    <tr>\n",
       "      <th>age_3.0</th>\n",
       "      <td>0.000000</td>\n",
       "      <td>0.000000</td>\n",
       "      <td>0.000000</td>\n",
       "      <td>0.000000</td>\n",
       "      <td>0.000000</td>\n",
       "    </tr>\n",
       "    <tr>\n",
       "      <th>edu_1.0</th>\n",
       "      <td>0.000000</td>\n",
       "      <td>0.000000</td>\n",
       "      <td>1.000000</td>\n",
       "      <td>0.000000</td>\n",
       "      <td>0.000000</td>\n",
       "    </tr>\n",
       "    <tr>\n",
       "      <th>edu_2.0</th>\n",
       "      <td>1.000000</td>\n",
       "      <td>0.000000</td>\n",
       "      <td>0.000000</td>\n",
       "      <td>0.000000</td>\n",
       "      <td>1.000000</td>\n",
       "    </tr>\n",
       "    <tr>\n",
       "      <th>edu_3.0</th>\n",
       "      <td>0.000000</td>\n",
       "      <td>1.000000</td>\n",
       "      <td>0.000000</td>\n",
       "      <td>1.000000</td>\n",
       "      <td>0.000000</td>\n",
       "    </tr>\n",
       "    <tr>\n",
       "      <th>ecactiv_1.0</th>\n",
       "      <td>1.000000</td>\n",
       "      <td>1.000000</td>\n",
       "      <td>1.000000</td>\n",
       "      <td>1.000000</td>\n",
       "      <td>0.000000</td>\n",
       "    </tr>\n",
       "    <tr>\n",
       "      <th>ecactiv_2.0</th>\n",
       "      <td>0.000000</td>\n",
       "      <td>0.000000</td>\n",
       "      <td>0.000000</td>\n",
       "      <td>0.000000</td>\n",
       "      <td>1.000000</td>\n",
       "    </tr>\n",
       "    <tr>\n",
       "      <th>ecactiv_3.0</th>\n",
       "      <td>0.000000</td>\n",
       "      <td>0.000000</td>\n",
       "      <td>0.000000</td>\n",
       "      <td>0.000000</td>\n",
       "      <td>0.000000</td>\n",
       "    </tr>\n",
       "    <tr>\n",
       "      <th>ecactiv_4.0</th>\n",
       "      <td>0.000000</td>\n",
       "      <td>0.000000</td>\n",
       "      <td>0.000000</td>\n",
       "      <td>0.000000</td>\n",
       "      <td>0.000000</td>\n",
       "    </tr>\n",
       "    <tr>\n",
       "      <th>BDI3_0.0</th>\n",
       "      <td>1.000000</td>\n",
       "      <td>1.000000</td>\n",
       "      <td>1.000000</td>\n",
       "      <td>1.000000</td>\n",
       "      <td>1.000000</td>\n",
       "    </tr>\n",
       "    <tr>\n",
       "      <th>BDI3_1.0</th>\n",
       "      <td>0.000000</td>\n",
       "      <td>0.000000</td>\n",
       "      <td>0.000000</td>\n",
       "      <td>0.000000</td>\n",
       "      <td>0.000000</td>\n",
       "    </tr>\n",
       "    <tr>\n",
       "      <th>BDI3_2.0</th>\n",
       "      <td>0.000000</td>\n",
       "      <td>0.000000</td>\n",
       "      <td>0.000000</td>\n",
       "      <td>0.000000</td>\n",
       "      <td>0.000000</td>\n",
       "    </tr>\n",
       "    <tr>\n",
       "      <th>phyact_1.0</th>\n",
       "      <td>1.000000</td>\n",
       "      <td>0.000000</td>\n",
       "      <td>0.000000</td>\n",
       "      <td>1.000000</td>\n",
       "      <td>0.000000</td>\n",
       "    </tr>\n",
       "    <tr>\n",
       "      <th>phyact_2.0</th>\n",
       "      <td>0.000000</td>\n",
       "      <td>1.000000</td>\n",
       "      <td>1.000000</td>\n",
       "      <td>0.000000</td>\n",
       "      <td>1.000000</td>\n",
       "    </tr>\n",
       "    <tr>\n",
       "      <th>phyact_3.0</th>\n",
       "      <td>0.000000</td>\n",
       "      <td>0.000000</td>\n",
       "      <td>0.000000</td>\n",
       "      <td>0.000000</td>\n",
       "      <td>0.000000</td>\n",
       "    </tr>\n",
       "    <tr>\n",
       "      <th>phyact_4.0</th>\n",
       "      <td>0.000000</td>\n",
       "      <td>0.000000</td>\n",
       "      <td>0.000000</td>\n",
       "      <td>0.000000</td>\n",
       "      <td>0.000000</td>\n",
       "    </tr>\n",
       "  </tbody>\n",
       "</table>\n",
       "</div>"
      ],
      "text/plain": [
       "                        0          1          2          3          4\n",
       "target           0.000000   1.000000   1.000000   0.000000   1.000000\n",
       "weight           1.086293   1.086293   1.086293   1.086293   0.945237\n",
       "sensecoh        65.000000  73.000000  59.000000  64.000000  58.000000\n",
       "ageatfdr        17.000000  19.000000  18.000000  17.000000  15.000000\n",
       "gn_2.0           0.000000   0.000000   0.000000   0.000000   1.000000\n",
       "household_1.0    0.000000   0.000000   0.000000   0.000000   0.000000\n",
       "psydsord_1.0     0.000000   0.000000   0.000000   0.000000   0.000000\n",
       "chrodse_1.0      1.000000   1.000000   0.000000   0.000000   0.000000\n",
       "prhealth_1.0     1.000000   1.000000   1.000000   1.000000   1.000000\n",
       "psydist_1.0      0.000000   0.000000   0.000000   0.000000   1.000000\n",
       "familyhist_1.0   1.000000   0.000000   0.000000   0.000000   0.000000\n",
       "smoking_1.0      1.000000   0.000000   1.000000   0.000000   0.000000\n",
       "age_1.0          1.000000   1.000000   1.000000   1.000000   1.000000\n",
       "age_2.0          0.000000   0.000000   0.000000   0.000000   0.000000\n",
       "age_3.0          0.000000   0.000000   0.000000   0.000000   0.000000\n",
       "edu_1.0          0.000000   0.000000   1.000000   0.000000   0.000000\n",
       "edu_2.0          1.000000   0.000000   0.000000   0.000000   1.000000\n",
       "edu_3.0          0.000000   1.000000   0.000000   1.000000   0.000000\n",
       "ecactiv_1.0      1.000000   1.000000   1.000000   1.000000   0.000000\n",
       "ecactiv_2.0      0.000000   0.000000   0.000000   0.000000   1.000000\n",
       "ecactiv_3.0      0.000000   0.000000   0.000000   0.000000   0.000000\n",
       "ecactiv_4.0      0.000000   0.000000   0.000000   0.000000   0.000000\n",
       "BDI3_0.0         1.000000   1.000000   1.000000   1.000000   1.000000\n",
       "BDI3_1.0         0.000000   0.000000   0.000000   0.000000   0.000000\n",
       "BDI3_2.0         0.000000   0.000000   0.000000   0.000000   0.000000\n",
       "phyact_1.0       1.000000   0.000000   0.000000   1.000000   0.000000\n",
       "phyact_2.0       0.000000   1.000000   1.000000   0.000000   1.000000\n",
       "phyact_3.0       0.000000   0.000000   0.000000   0.000000   0.000000\n",
       "phyact_4.0       0.000000   0.000000   0.000000   0.000000   0.000000"
      ]
     },
     "execution_count": 43,
     "metadata": {},
     "output_type": "execute_result"
    }
   ],
   "source": [
    "data.head().T\n"
   ]
  },
  {
   "cell_type": "markdown",
   "id": "d5a53e64",
   "metadata": {},
   "source": [
    "## Impute missing values"
   ]
  },
  {
   "cell_type": "code",
   "execution_count": 44,
   "id": "3be48189",
   "metadata": {},
   "outputs": [
    {
     "data": {
      "text/plain": [
       "array([[ 0.        ,  1.08629333, 65.        , ...,  0.        ,\n",
       "         0.        ,  0.        ],\n",
       "       [ 1.        ,  1.08629333, 73.        , ...,  1.        ,\n",
       "         0.        ,  0.        ],\n",
       "       [ 1.        ,  1.08629333, 59.        , ...,  1.        ,\n",
       "         0.        ,  0.        ],\n",
       "       ...,\n",
       "       [ 0.        ,  1.1036834 , 72.        , ...,  0.        ,\n",
       "         1.        ,  0.        ],\n",
       "       [ 0.        ,  1.06728826, 80.        , ...,  0.        ,\n",
       "         1.        ,  0.        ],\n",
       "       [ 0.        ,  1.1036834 , 70.        , ...,  1.        ,\n",
       "         0.        ,  0.        ]])"
      ]
     },
     "execution_count": 44,
     "metadata": {},
     "output_type": "execute_result"
    }
   ],
   "source": [
    "# impute missing values via the column most_frequent\n",
    "\n",
    "from sklearn.impute import SimpleImputer\n",
    "\n",
    "imr = SimpleImputer(missing_values=np.nan, strategy='most_frequent')\n",
    "imr = imr.fit(data.values)\n",
    "imputed_data = imr.transform(data.values)\n",
    "imputed_data"
   ]
  },
  {
   "cell_type": "code",
   "execution_count": 45,
   "id": "ad2cd310",
   "metadata": {},
   "outputs": [],
   "source": [
    "# save numpy array as csv file\n",
    "from numpy import asarray\n",
    "from numpy import savetxt\n",
    "\n",
    "#savetxt('thl_array.csv', imputed_data, delimiter=',')"
   ]
  },
  {
   "cell_type": "markdown",
   "id": "4ec68f85",
   "metadata": {},
   "source": [
    "#### Impute missing and out as dataframe"
   ]
  },
  {
   "cell_type": "code",
   "execution_count": 46,
   "id": "6dc979c7",
   "metadata": {},
   "outputs": [],
   "source": [
    "# impute missing values via the column mean\n",
    "\n",
    "from sklearn.impute import SimpleImputer\n",
    "\n",
    "imp=SimpleImputer(missing_values=np.NaN, strategy='most_frequent')\n",
    "imputed_data=pd.DataFrame(imp.fit_transform(data))\n",
    "imputed_data.columns=data.columns\n",
    "imputed_data.index=data.index"
   ]
  },
  {
   "cell_type": "code",
   "execution_count": 47,
   "id": "97ee3ae7",
   "metadata": {},
   "outputs": [
    {
     "data": {
      "text/html": [
       "<div>\n",
       "<style scoped>\n",
       "    .dataframe tbody tr th:only-of-type {\n",
       "        vertical-align: middle;\n",
       "    }\n",
       "\n",
       "    .dataframe tbody tr th {\n",
       "        vertical-align: top;\n",
       "    }\n",
       "\n",
       "    .dataframe thead th {\n",
       "        text-align: right;\n",
       "    }\n",
       "</style>\n",
       "<table border=\"1\" class=\"dataframe\">\n",
       "  <thead>\n",
       "    <tr style=\"text-align: right;\">\n",
       "      <th></th>\n",
       "      <th>target</th>\n",
       "      <th>weight</th>\n",
       "      <th>sensecoh</th>\n",
       "      <th>ageatfdr</th>\n",
       "      <th>gn_2.0</th>\n",
       "      <th>household_1.0</th>\n",
       "      <th>psydsord_1.0</th>\n",
       "      <th>chrodse_1.0</th>\n",
       "      <th>prhealth_1.0</th>\n",
       "      <th>psydist_1.0</th>\n",
       "      <th>...</th>\n",
       "      <th>ecactiv_2.0</th>\n",
       "      <th>ecactiv_3.0</th>\n",
       "      <th>ecactiv_4.0</th>\n",
       "      <th>BDI3_0.0</th>\n",
       "      <th>BDI3_1.0</th>\n",
       "      <th>BDI3_2.0</th>\n",
       "      <th>phyact_1.0</th>\n",
       "      <th>phyact_2.0</th>\n",
       "      <th>phyact_3.0</th>\n",
       "      <th>phyact_4.0</th>\n",
       "    </tr>\n",
       "  </thead>\n",
       "  <tbody>\n",
       "    <tr>\n",
       "      <th>0</th>\n",
       "      <td>0.0</td>\n",
       "      <td>1.086293</td>\n",
       "      <td>65.0</td>\n",
       "      <td>17.0</td>\n",
       "      <td>0.0</td>\n",
       "      <td>0.0</td>\n",
       "      <td>0.0</td>\n",
       "      <td>1.0</td>\n",
       "      <td>1.0</td>\n",
       "      <td>0.0</td>\n",
       "      <td>...</td>\n",
       "      <td>0.0</td>\n",
       "      <td>0.0</td>\n",
       "      <td>0.0</td>\n",
       "      <td>1.0</td>\n",
       "      <td>0.0</td>\n",
       "      <td>0.0</td>\n",
       "      <td>1.0</td>\n",
       "      <td>0.0</td>\n",
       "      <td>0.0</td>\n",
       "      <td>0.0</td>\n",
       "    </tr>\n",
       "    <tr>\n",
       "      <th>1</th>\n",
       "      <td>1.0</td>\n",
       "      <td>1.086293</td>\n",
       "      <td>73.0</td>\n",
       "      <td>19.0</td>\n",
       "      <td>0.0</td>\n",
       "      <td>0.0</td>\n",
       "      <td>0.0</td>\n",
       "      <td>1.0</td>\n",
       "      <td>1.0</td>\n",
       "      <td>0.0</td>\n",
       "      <td>...</td>\n",
       "      <td>0.0</td>\n",
       "      <td>0.0</td>\n",
       "      <td>0.0</td>\n",
       "      <td>1.0</td>\n",
       "      <td>0.0</td>\n",
       "      <td>0.0</td>\n",
       "      <td>0.0</td>\n",
       "      <td>1.0</td>\n",
       "      <td>0.0</td>\n",
       "      <td>0.0</td>\n",
       "    </tr>\n",
       "    <tr>\n",
       "      <th>2</th>\n",
       "      <td>1.0</td>\n",
       "      <td>1.086293</td>\n",
       "      <td>59.0</td>\n",
       "      <td>18.0</td>\n",
       "      <td>0.0</td>\n",
       "      <td>0.0</td>\n",
       "      <td>0.0</td>\n",
       "      <td>0.0</td>\n",
       "      <td>1.0</td>\n",
       "      <td>0.0</td>\n",
       "      <td>...</td>\n",
       "      <td>0.0</td>\n",
       "      <td>0.0</td>\n",
       "      <td>0.0</td>\n",
       "      <td>1.0</td>\n",
       "      <td>0.0</td>\n",
       "      <td>0.0</td>\n",
       "      <td>0.0</td>\n",
       "      <td>1.0</td>\n",
       "      <td>0.0</td>\n",
       "      <td>0.0</td>\n",
       "    </tr>\n",
       "    <tr>\n",
       "      <th>3</th>\n",
       "      <td>0.0</td>\n",
       "      <td>1.086293</td>\n",
       "      <td>64.0</td>\n",
       "      <td>17.0</td>\n",
       "      <td>0.0</td>\n",
       "      <td>0.0</td>\n",
       "      <td>0.0</td>\n",
       "      <td>0.0</td>\n",
       "      <td>1.0</td>\n",
       "      <td>0.0</td>\n",
       "      <td>...</td>\n",
       "      <td>0.0</td>\n",
       "      <td>0.0</td>\n",
       "      <td>0.0</td>\n",
       "      <td>1.0</td>\n",
       "      <td>0.0</td>\n",
       "      <td>0.0</td>\n",
       "      <td>1.0</td>\n",
       "      <td>0.0</td>\n",
       "      <td>0.0</td>\n",
       "      <td>0.0</td>\n",
       "    </tr>\n",
       "    <tr>\n",
       "      <th>4</th>\n",
       "      <td>1.0</td>\n",
       "      <td>0.945237</td>\n",
       "      <td>58.0</td>\n",
       "      <td>15.0</td>\n",
       "      <td>1.0</td>\n",
       "      <td>0.0</td>\n",
       "      <td>0.0</td>\n",
       "      <td>0.0</td>\n",
       "      <td>1.0</td>\n",
       "      <td>1.0</td>\n",
       "      <td>...</td>\n",
       "      <td>1.0</td>\n",
       "      <td>0.0</td>\n",
       "      <td>0.0</td>\n",
       "      <td>1.0</td>\n",
       "      <td>0.0</td>\n",
       "      <td>0.0</td>\n",
       "      <td>0.0</td>\n",
       "      <td>1.0</td>\n",
       "      <td>0.0</td>\n",
       "      <td>0.0</td>\n",
       "    </tr>\n",
       "  </tbody>\n",
       "</table>\n",
       "<p>5 rows × 29 columns</p>\n",
       "</div>"
      ],
      "text/plain": [
       "   target    weight  sensecoh  ageatfdr  gn_2.0  household_1.0  psydsord_1.0  \\\n",
       "0     0.0  1.086293      65.0      17.0     0.0            0.0           0.0   \n",
       "1     1.0  1.086293      73.0      19.0     0.0            0.0           0.0   \n",
       "2     1.0  1.086293      59.0      18.0     0.0            0.0           0.0   \n",
       "3     0.0  1.086293      64.0      17.0     0.0            0.0           0.0   \n",
       "4     1.0  0.945237      58.0      15.0     1.0            0.0           0.0   \n",
       "\n",
       "   chrodse_1.0  prhealth_1.0  psydist_1.0  ...  ecactiv_2.0  ecactiv_3.0  \\\n",
       "0          1.0           1.0          0.0  ...          0.0          0.0   \n",
       "1          1.0           1.0          0.0  ...          0.0          0.0   \n",
       "2          0.0           1.0          0.0  ...          0.0          0.0   \n",
       "3          0.0           1.0          0.0  ...          0.0          0.0   \n",
       "4          0.0           1.0          1.0  ...          1.0          0.0   \n",
       "\n",
       "   ecactiv_4.0  BDI3_0.0  BDI3_1.0  BDI3_2.0  phyact_1.0  phyact_2.0  \\\n",
       "0          0.0       1.0       0.0       0.0         1.0         0.0   \n",
       "1          0.0       1.0       0.0       0.0         0.0         1.0   \n",
       "2          0.0       1.0       0.0       0.0         0.0         1.0   \n",
       "3          0.0       1.0       0.0       0.0         1.0         0.0   \n",
       "4          0.0       1.0       0.0       0.0         0.0         1.0   \n",
       "\n",
       "   phyact_3.0  phyact_4.0  \n",
       "0         0.0         0.0  \n",
       "1         0.0         0.0  \n",
       "2         0.0         0.0  \n",
       "3         0.0         0.0  \n",
       "4         0.0         0.0  \n",
       "\n",
       "[5 rows x 29 columns]"
      ]
     },
     "execution_count": 47,
     "metadata": {},
     "output_type": "execute_result"
    }
   ],
   "source": [
    "imputed_data.head()"
   ]
  },
  {
   "cell_type": "code",
   "execution_count": 48,
   "id": "132725b5",
   "metadata": {},
   "outputs": [],
   "source": [
    "#imputed_data.to_csv('thl_recoded.csv', index=False)"
   ]
  },
  {
   "cell_type": "code",
   "execution_count": 49,
   "id": "6fc1e650",
   "metadata": {},
   "outputs": [
    {
     "data": {
      "text/plain": [
       "(380, 29)"
      ]
     },
     "execution_count": 49,
     "metadata": {},
     "output_type": "execute_result"
    }
   ],
   "source": [
    "imputed_data.shape"
   ]
  },
  {
   "cell_type": "markdown",
   "id": "14d71cfe",
   "metadata": {},
   "source": [
    "## KNN impute"
   ]
  },
  {
   "cell_type": "code",
   "execution_count": 50,
   "id": "55e4e6c5",
   "metadata": {},
   "outputs": [
    {
     "data": {
      "text/html": [
       "<div>\n",
       "<style scoped>\n",
       "    .dataframe tbody tr th:only-of-type {\n",
       "        vertical-align: middle;\n",
       "    }\n",
       "\n",
       "    .dataframe tbody tr th {\n",
       "        vertical-align: top;\n",
       "    }\n",
       "\n",
       "    .dataframe thead th {\n",
       "        text-align: right;\n",
       "    }\n",
       "</style>\n",
       "<table border=\"1\" class=\"dataframe\">\n",
       "  <thead>\n",
       "    <tr style=\"text-align: right;\">\n",
       "      <th></th>\n",
       "      <th>target</th>\n",
       "      <th>weight</th>\n",
       "      <th>sensecoh</th>\n",
       "      <th>ageatfdr</th>\n",
       "      <th>gn_2.0</th>\n",
       "      <th>household_1.0</th>\n",
       "      <th>psydsord_1.0</th>\n",
       "      <th>chrodse_1.0</th>\n",
       "      <th>prhealth_1.0</th>\n",
       "      <th>psydist_1.0</th>\n",
       "      <th>...</th>\n",
       "      <th>ecactiv_2.0</th>\n",
       "      <th>ecactiv_3.0</th>\n",
       "      <th>ecactiv_4.0</th>\n",
       "      <th>BDI3_0.0</th>\n",
       "      <th>BDI3_1.0</th>\n",
       "      <th>BDI3_2.0</th>\n",
       "      <th>phyact_1.0</th>\n",
       "      <th>phyact_2.0</th>\n",
       "      <th>phyact_3.0</th>\n",
       "      <th>phyact_4.0</th>\n",
       "    </tr>\n",
       "  </thead>\n",
       "  <tbody>\n",
       "    <tr>\n",
       "      <th>0</th>\n",
       "      <td>0.0</td>\n",
       "      <td>1.086293</td>\n",
       "      <td>65.0</td>\n",
       "      <td>17.0</td>\n",
       "      <td>0.0</td>\n",
       "      <td>0.0</td>\n",
       "      <td>0.0</td>\n",
       "      <td>1.0</td>\n",
       "      <td>1.0</td>\n",
       "      <td>0.0</td>\n",
       "      <td>...</td>\n",
       "      <td>0.0</td>\n",
       "      <td>0.0</td>\n",
       "      <td>0.0</td>\n",
       "      <td>1.0</td>\n",
       "      <td>0.0</td>\n",
       "      <td>0.0</td>\n",
       "      <td>1.0</td>\n",
       "      <td>0.0</td>\n",
       "      <td>0.0</td>\n",
       "      <td>0.0</td>\n",
       "    </tr>\n",
       "    <tr>\n",
       "      <th>1</th>\n",
       "      <td>1.0</td>\n",
       "      <td>1.086293</td>\n",
       "      <td>73.0</td>\n",
       "      <td>19.0</td>\n",
       "      <td>0.0</td>\n",
       "      <td>0.0</td>\n",
       "      <td>0.0</td>\n",
       "      <td>1.0</td>\n",
       "      <td>1.0</td>\n",
       "      <td>0.0</td>\n",
       "      <td>...</td>\n",
       "      <td>0.0</td>\n",
       "      <td>0.0</td>\n",
       "      <td>0.0</td>\n",
       "      <td>1.0</td>\n",
       "      <td>0.0</td>\n",
       "      <td>0.0</td>\n",
       "      <td>0.0</td>\n",
       "      <td>1.0</td>\n",
       "      <td>0.0</td>\n",
       "      <td>0.0</td>\n",
       "    </tr>\n",
       "    <tr>\n",
       "      <th>2</th>\n",
       "      <td>1.0</td>\n",
       "      <td>1.086293</td>\n",
       "      <td>59.0</td>\n",
       "      <td>18.0</td>\n",
       "      <td>0.0</td>\n",
       "      <td>0.0</td>\n",
       "      <td>0.0</td>\n",
       "      <td>0.0</td>\n",
       "      <td>1.0</td>\n",
       "      <td>0.0</td>\n",
       "      <td>...</td>\n",
       "      <td>0.0</td>\n",
       "      <td>0.0</td>\n",
       "      <td>0.0</td>\n",
       "      <td>1.0</td>\n",
       "      <td>0.0</td>\n",
       "      <td>0.0</td>\n",
       "      <td>0.0</td>\n",
       "      <td>1.0</td>\n",
       "      <td>0.0</td>\n",
       "      <td>0.0</td>\n",
       "    </tr>\n",
       "    <tr>\n",
       "      <th>3</th>\n",
       "      <td>0.0</td>\n",
       "      <td>1.086293</td>\n",
       "      <td>64.0</td>\n",
       "      <td>17.0</td>\n",
       "      <td>0.0</td>\n",
       "      <td>0.0</td>\n",
       "      <td>0.0</td>\n",
       "      <td>0.0</td>\n",
       "      <td>1.0</td>\n",
       "      <td>0.0</td>\n",
       "      <td>...</td>\n",
       "      <td>0.0</td>\n",
       "      <td>0.0</td>\n",
       "      <td>0.0</td>\n",
       "      <td>1.0</td>\n",
       "      <td>0.0</td>\n",
       "      <td>0.0</td>\n",
       "      <td>1.0</td>\n",
       "      <td>0.0</td>\n",
       "      <td>0.0</td>\n",
       "      <td>0.0</td>\n",
       "    </tr>\n",
       "    <tr>\n",
       "      <th>4</th>\n",
       "      <td>1.0</td>\n",
       "      <td>0.945237</td>\n",
       "      <td>58.0</td>\n",
       "      <td>15.0</td>\n",
       "      <td>1.0</td>\n",
       "      <td>0.0</td>\n",
       "      <td>0.0</td>\n",
       "      <td>0.0</td>\n",
       "      <td>1.0</td>\n",
       "      <td>1.0</td>\n",
       "      <td>...</td>\n",
       "      <td>1.0</td>\n",
       "      <td>0.0</td>\n",
       "      <td>0.0</td>\n",
       "      <td>1.0</td>\n",
       "      <td>0.0</td>\n",
       "      <td>0.0</td>\n",
       "      <td>0.0</td>\n",
       "      <td>1.0</td>\n",
       "      <td>0.0</td>\n",
       "      <td>0.0</td>\n",
       "    </tr>\n",
       "  </tbody>\n",
       "</table>\n",
       "<p>5 rows × 29 columns</p>\n",
       "</div>"
      ],
      "text/plain": [
       "   target    weight  sensecoh  ageatfdr  gn_2.0  household_1.0  psydsord_1.0  \\\n",
       "0     0.0  1.086293      65.0      17.0     0.0            0.0           0.0   \n",
       "1     1.0  1.086293      73.0      19.0     0.0            0.0           0.0   \n",
       "2     1.0  1.086293      59.0      18.0     0.0            0.0           0.0   \n",
       "3     0.0  1.086293      64.0      17.0     0.0            0.0           0.0   \n",
       "4     1.0  0.945237      58.0      15.0     1.0            0.0           0.0   \n",
       "\n",
       "   chrodse_1.0  prhealth_1.0  psydist_1.0  ...  ecactiv_2.0  ecactiv_3.0  \\\n",
       "0          1.0           1.0          0.0  ...          0.0          0.0   \n",
       "1          1.0           1.0          0.0  ...          0.0          0.0   \n",
       "2          0.0           1.0          0.0  ...          0.0          0.0   \n",
       "3          0.0           1.0          0.0  ...          0.0          0.0   \n",
       "4          0.0           1.0          1.0  ...          1.0          0.0   \n",
       "\n",
       "   ecactiv_4.0  BDI3_0.0  BDI3_1.0  BDI3_2.0  phyact_1.0  phyact_2.0  \\\n",
       "0          0.0       1.0       0.0       0.0         1.0         0.0   \n",
       "1          0.0       1.0       0.0       0.0         0.0         1.0   \n",
       "2          0.0       1.0       0.0       0.0         0.0         1.0   \n",
       "3          0.0       1.0       0.0       0.0         1.0         0.0   \n",
       "4          0.0       1.0       0.0       0.0         0.0         1.0   \n",
       "\n",
       "   phyact_3.0  phyact_4.0  \n",
       "0         0.0         0.0  \n",
       "1         0.0         0.0  \n",
       "2         0.0         0.0  \n",
       "3         0.0         0.0  \n",
       "4         0.0         0.0  \n",
       "\n",
       "[5 rows x 29 columns]"
      ]
     },
     "execution_count": 50,
     "metadata": {},
     "output_type": "execute_result"
    }
   ],
   "source": [
    "from sklearn.impute import KNNImputer\n",
    "\n",
    "imputer = KNNImputer(n_neighbors=5)\n",
    "imputed_knn = pd.DataFrame(imputer.fit_transform(data),columns = data.columns)\n",
    "imputed_knn.head()\n"
   ]
  },
  {
   "cell_type": "code",
   "execution_count": 51,
   "id": "4e1a9065",
   "metadata": {},
   "outputs": [],
   "source": [
    "imputed_knn.to_csv('thl_recoded.csv', index=False)"
   ]
  },
  {
   "cell_type": "code",
   "execution_count": 52,
   "id": "628c0488",
   "metadata": {},
   "outputs": [
    {
     "data": {
      "text/plain": [
       "(380, 29)"
      ]
     },
     "execution_count": 52,
     "metadata": {},
     "output_type": "execute_result"
    }
   ],
   "source": [
    "imputed_knn.shape"
   ]
  },
  {
   "cell_type": "markdown",
   "id": "e8c5f71d",
   "metadata": {},
   "source": [
    "## Correlation plot"
   ]
  },
  {
   "cell_type": "code",
   "execution_count": 53,
   "id": "fcfa41e9",
   "metadata": {
    "scrolled": false
   },
   "outputs": [
    {
     "data": {
      "text/plain": [
       "<AxesSubplot:>"
      ]
     },
     "execution_count": 53,
     "metadata": {},
     "output_type": "execute_result"
    },
    {
     "data": {
      "image/png": "[encoded data removed]",
      "text/plain": [
       "<Figure size 1080x720 with 2 Axes>"
      ]
     },
     "metadata": {
      "needs_background": "light"
     },
     "output_type": "display_data"
    }
   ],
   "source": [
    "fig, ax = plt.subplots(figsize=(15,10)) \n",
    "sns.heatmap(imputed_knn.corr(), annot = True, linecolor = \"black\", lw = 0.5, fmt= '.2f') "
   ]
  },
  {
   "cell_type": "markdown",
   "id": "19a45fed",
   "metadata": {},
   "source": [
    "Since we have too many variables, graph is not helpfull to find out correlated variables. Then we can create a list to analyse the correlated variables. "
   ]
  },
  {
   "cell_type": "code",
   "execution_count": 54,
   "id": "e9917a0e",
   "metadata": {},
   "outputs": [
    {
     "name": "stdout",
     "output_type": "stream",
     "text": [
      "Top Absolute Correlations\n",
      "BDI3_0.0     BDI3_1.0       0.846389\n",
      "age_3.0      ecactiv_3.0    0.794007\n",
      "age_1.0      age_2.0        0.749758\n",
      "weight       gn_2.0         0.606577\n",
      "age_3.0      ecactiv_1.0    0.586868\n",
      "ecactiv_1.0  ecactiv_3.0    0.581954\n",
      "edu_2.0      edu_3.0        0.572168\n",
      "phyact_1.0   phyact_2.0     0.543775\n",
      "ecactiv_1.0  ecactiv_2.0    0.509113\n",
      "psydist_1.0  BDI3_0.0       0.503045\n",
      "phyact_1.0   phyact_3.0     0.495029\n",
      "edu_1.0      edu_2.0        0.485893\n",
      "             edu_3.0        0.426285\n",
      "sensecoh     BDI3_0.0       0.426048\n",
      "BDI3_0.0     BDI3_2.0       0.400222\n",
      "dtype: float64\n"
     ]
    }
   ],
   "source": [
    "def get_redundant_pairs(df):\n",
    "    '''Get diagonal and lower triangular pairs of correlation matrix'''\n",
    "    pairs_to_drop = set()\n",
    "    cols = df.columns\n",
    "    for i in range(0, df.shape[1]):\n",
    "        for j in range(0, i+1):\n",
    "            pairs_to_drop.add((cols[i], cols[j]))\n",
    "    return pairs_to_drop\n",
    "\n",
    "def get_top_abs_correlations(df, n=10):\n",
    "    au_corr = df.corr().abs().unstack()\n",
    "    labels_to_drop = get_redundant_pairs(df)\n",
    "    au_corr = au_corr.drop(labels=labels_to_drop).sort_values(ascending=False)\n",
    "    return au_corr[0:n]\n",
    "\n",
    "print(\"Top Absolute Correlations\")\n",
    "print(get_top_abs_correlations(imputed_knn, 15))"
   ]
  },
  {
   "cell_type": "markdown",
   "id": "6703269e",
   "metadata": {},
   "source": [
    "It seems that responses of two categorical variables are correlated but this this an expected situation since they are the part of the same questions. "
   ]
  },
  {
   "cell_type": "markdown",
   "id": "5ca619e4",
   "metadata": {},
   "source": [
    "# Final chi-square test"
   ]
  },
  {
   "cell_type": "code",
   "execution_count": 55,
   "id": "168d7060",
   "metadata": {},
   "outputs": [],
   "source": [
    "from sklearn.feature_selection import chi2\n",
    "X = imputed_knn.drop('target',axis=1)\n",
    "y = imputed_knn['target']\n",
    "\n",
    "chi_scores = chi2(X,y)"
   ]
  },
  {
   "cell_type": "code",
   "execution_count": 56,
   "id": "a7904c01",
   "metadata": {},
   "outputs": [],
   "source": [
    "p_values = pd.Series(chi_scores[1],index = X.columns)\n",
    "p_values.sort_values(ascending = False , inplace = True)"
   ]
  },
  {
   "cell_type": "code",
   "execution_count": 57,
   "id": "e0a6d7fc",
   "metadata": {},
   "outputs": [
    {
     "data": {
      "image/png": "[encoded data removed]",
      "text/plain": [
       "<Figure size 960x480 with 1 Axes>"
      ]
     },
     "metadata": {
      "needs_background": "light"
     },
     "output_type": "display_data"
    }
   ],
   "source": [
    "\n",
    "\n",
    "from matplotlib.pyplot import figure\n",
    "figure(figsize=(12, 6), dpi=80)\n",
    "\n",
    "\n",
    "p_values.plot(kind=\"bar\")\n",
    "plt.xlabel(\"Features\",fontsize=20)\n",
    "plt.ylabel(\"p_values\",fontsize=20)\n",
    "plt.title(\"chi squared test base on p value\")\n",
    "plt.show()"
   ]
  },
  {
   "cell_type": "code",
   "execution_count": 58,
   "id": "c75beb73",
   "metadata": {},
   "outputs": [
    {
     "data": {
      "text/plain": [
       "sensecoh          0.949099\n",
       "weight            0.936975\n",
       "psydist_1.0       0.914124\n",
       "chrodse_1.0       0.809949\n",
       "edu_2.0           0.747140\n",
       "household_1.0     0.637446\n",
       "prhealth_1.0      0.627096\n",
       "psydsord_1.0      0.610789\n",
       "familyhist_1.0    0.573315\n",
       "BDI3_0.0          0.538117\n",
       "BDI3_2.0          0.452045\n",
       "ecactiv_4.0       0.405720\n",
       "age_2.0           0.341578\n",
       "phyact_2.0        0.331665\n",
       "ecactiv_2.0       0.285638\n",
       "gn_2.0            0.236212\n",
       "phyact_4.0        0.234249\n",
       "phyact_3.0        0.199521\n",
       "BDI3_1.0          0.166102\n",
       "edu_3.0           0.146883\n",
       "age_1.0           0.141170\n",
       "edu_1.0           0.067889\n",
       "phyact_1.0        0.031769\n",
       "ecactiv_1.0       0.013182\n",
       "smoking_1.0       0.012388\n",
       "ageatfdr          0.000991\n",
       "ecactiv_3.0       0.000122\n",
       "age_3.0           0.000031\n",
       "dtype: float64"
      ]
     },
     "execution_count": 58,
     "metadata": {},
     "output_type": "execute_result"
    }
   ],
   "source": [
    "p_values"
   ]
  },
  {
   "cell_type": "code",
   "execution_count": null,
   "id": "4d5c4f7a",
   "metadata": {},
   "outputs": [],
   "source": []
  }
 ],
 "metadata": {
  "hide_input": false,
  "kernelspec": {
   "display_name": "Python 3 (ipykernel)",
   "language": "python",
   "name": "python3"
  },
  "language_info": {
   "codemirror_mode": {
    "name": "ipython",
    "version": 3
   },
   "file_extension": ".py",
   "mimetype": "text/x-python",
   "name": "python",
   "nbconvert_exporter": "python",
   "pygments_lexer": "ipython3",
   "version": "3.9.12"
  },
  "toc": {
   "base_numbering": 1,
   "nav_menu": {},
   "number_sections": true,
   "sideBar": true,
   "skip_h1_title": false,
   "title_cell": "Table of Contents",
   "title_sidebar": "Contents",
   "toc_cell": false,
   "toc_position": {},
   "toc_section_display": true,
   "toc_window_display": false
  },
  "varInspector": {
   "cols": {
    "lenName": 16,
    "lenType": 16,
    "lenVar": 40
   },
   "kernels_config": {
    "python": {
     "delete_cmd_postfix": "",
     "delete_cmd_prefix": "del ",
     "library": "var_list.py",
     "varRefreshCmd": "print(var_dic_list())"
    },
    "r": {
     "delete_cmd_postfix": ") ",
     "delete_cmd_prefix": "rm(",
     "library": "var_list.r",
     "varRefreshCmd": "cat(var_dic_list()) "
    }
   },
   "types_to_exclude": [
    "module",
    "function",
    "builtin_function_or_method",
    "instance",
    "_Feature"
   ],
   "window_display": false
  }
 },
 "nbformat": 4,
 "nbformat_minor": 5
}
